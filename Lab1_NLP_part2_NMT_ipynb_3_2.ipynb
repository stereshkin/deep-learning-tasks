{
 "cells": [
  {
   "cell_type": "markdown",
   "metadata": {
    "id": "ztcPpl6hPsAU"
   },
   "source": [
    "# Lab 1"
   ]
  },
  {
   "cell_type": "markdown",
   "metadata": {
    "id": "6raI4E_fPsAW"
   },
   "source": [
    "## Part 2: Neural Machine Translation in the wild\n",
    "In the third homework you are supposed to get the best translation you can for the EN-RU translation task.\n",
    "\n",
    "Basic approach using RNNs as encoder and decoder is implemented for you. \n",
    "\n",
    "Your ultimate task is to use the techniques we've covered, e.g.\n",
    "\n",
    "* Optimization enhancements (e.g. learning rate decay)\n",
    "\n",
    "* CNN encoder (with or without positional encoding)\n",
    "\n",
    "* attention/self-attention mechanism\n",
    "\n",
    "* pretraining the language model\n",
    "\n",
    "* [Byte Pair Encoding](https://github.com/rsennrich/subword-nmt)\n",
    "\n",
    "* or just fine-tunning BERT ;)\n",
    "\n",
    "to improve the translation quality. \n",
    "\n",
    "__Please use at least three different approaches/models and compare them (translation quality/complexity/training and evaluation time).__\n",
    "\n",
    "Write down some summary on your experiments and illustrate it with convergence plots/metrics and your thoughts. Just like you would approach a real problem."
   ]
  },
  {
   "cell_type": "code",
   "execution_count": 1,
   "metadata": {
    "colab": {
     "base_uri": "https://localhost:8080/"
    },
    "id": "ORBsRFA-PsAY",
    "outputId": "60c0831a-d323-47e6-c9a2-8a58983202fb"
   },
   "outputs": [
    {
     "name": "stdout",
     "output_type": "stream",
     "text": [
      "--2022-05-09 11:05:33--  https://raw.githubusercontent.com/girafe-ai/ml-mipt/master/datasets/Machine_translation_EN_RU/data.txt\n",
      "Resolving raw.githubusercontent.com (raw.githubusercontent.com)... 185.199.108.133, 185.199.109.133, 185.199.110.133, ...\n",
      "Connecting to raw.githubusercontent.com (raw.githubusercontent.com)|185.199.108.133|:443... connected.\n",
      "HTTP request sent, awaiting response... 200 OK\n",
      "Length: 12905334 (12M) [text/plain]\n",
      "Saving to: ‘data.txt’\n",
      "\n",
      "data.txt            100%[===================>]  12.31M  --.-KB/s    in 0.1s    \n",
      "\n",
      "2022-05-09 11:05:33 (127 MB/s) - ‘data.txt’ saved [12905334/12905334]\n",
      "\n"
     ]
    }
   ],
   "source": [
    "# Thanks to YSDA NLP course team for the data\n",
    "# (who thanks tilda and deephack teams for the data in their turn)\n",
    "!wget -nc https://raw.githubusercontent.com/girafe-ai/ml-mipt/master/datasets/Machine_translation_EN_RU/data.txt"
   ]
  },
  {
   "cell_type": "markdown",
   "metadata": {
    "id": "3ihZ_nVUmsyC"
   },
   "source": [
    "The `data.txt` is a tsv file, each line of which contains a sentence in english and a corresponding translation, separated by `\\t`. We'll load it into memory and create a list of pairs, which would yield the same interface as with the torchtext's datasets."
   ]
  },
  {
   "cell_type": "code",
   "execution_count": 2,
   "metadata": {
    "colab": {
     "base_uri": "https://localhost:8080/"
    },
    "id": "_wzRffwfgizj",
    "outputId": "40357ae0-e906-4ae5-9c69-ee05f8e773ef"
   },
   "outputs": [
    {
     "name": "stdout",
     "output_type": "stream",
     "text": [
      "Dataset size 50,000\n",
      "Sample:\n"
     ]
    },
    {
     "data": {
      "text/plain": [
       "[['Cordelia Hotel is situated in Tbilisi, a 3-minute walk away from Saint Trinity Church.',\n",
       "  'Отель Cordelia расположен в Тбилиси, в 3 минутах ходьбы от Свято-Троицкого собора.'],\n",
       " ['At Tupirmarka Lodge you will find a 24-hour front desk, room service, and a snack bar.',\n",
       "  'В числе удобств лоджа Tupirmarka круглосуточная стойка регистрации и снэк-бар. Гости могут воспользоваться услугой доставки еды и напитков в номер.'],\n",
       " ['Featuring free WiFi in all areas, Naigao Xiaowo offers accommodation in Shanghai.',\n",
       "  'Апартаменты Naigao Xiaowo расположены в городе Шанхай. К услугам гостей бесплатный Wi-Fi во всех зонах.'],\n",
       " ['Each has a TV and a private bathroom with shower.',\n",
       "  'В вашем распоряжении также телевизор и собственная ванная комната с душем.'],\n",
       " ['Your room comes with air conditioning and satellite TV.',\n",
       "  'Номер оснащен кондиционером и спутниковым телевидением.']]"
      ]
     },
     "execution_count": 2,
     "metadata": {},
     "output_type": "execute_result"
    }
   ],
   "source": [
    "with open(\"data.txt\") as f:\n",
    "    data = [l.rstrip().split(\"\\t\") for l in f]\n",
    "\n",
    "print(f\"Dataset size {len(data):,}\")\n",
    "print(\"Sample:\")\n",
    "data[:5]"
   ]
  },
  {
   "cell_type": "markdown",
   "metadata": {
    "id": "BjDuhDOWPsAa"
   },
   "source": [
    "## Data preprocessing"
   ]
  },
  {
   "cell_type": "markdown",
   "metadata": {
    "id": "RW41CAd1ofXD"
   },
   "source": [
    "First of all, let's split our dataset into train, test and validation."
   ]
  },
  {
   "cell_type": "code",
   "execution_count": 6,
   "metadata": {
    "colab": {
     "base_uri": "https://localhost:8080/"
    },
    "id": "GXYV0vWaolpm",
    "outputId": "825259e0-cd48-477e-b81f-3cc46f226f14"
   },
   "outputs": [
    {
     "name": "stdout",
     "output_type": "stream",
     "text": [
      "Train size: 40000\n",
      "Test size: 7500\n",
      "Val size: 2500\n"
     ]
    }
   ],
   "source": [
    "import torch\n",
    "from torch.utils.data import random_split\n",
    "\n",
    "\n",
    "data_size = len(data)\n",
    "train_size = int(0.8 * data_size)\n",
    "test_size = int(0.15 * data_size)\n",
    "val_size = data_size - train_size - test_size\n",
    "train_data, test_data, val_data = random_split(\n",
    "    data, [train_size, test_size, val_size], generator=torch.Generator().manual_seed(42)\n",
    ")\n",
    "print(f\"Train size: {len(train_data)}\")\n",
    "print(f\"Test size: {len(test_data)}\")\n",
    "print(f\"Val size: {len(val_data)}\")"
   ]
  },
  {
   "cell_type": "markdown",
   "metadata": {
    "id": "5gGXkxD5odoA"
   },
   "source": [
    "Here comes the preprocessing. If you find pieces, that you don't understand, please, go back to 3rd week's practice notebook. The code is mostly taken from it.\n",
    "\n",
    "Do not hesitate to use BPE or more complex preprocessing pipeline ;)"
   ]
  },
  {
   "cell_type": "code",
   "execution_count": 11,
   "metadata": {
    "id": "6sGsE2moPsAa"
   },
   "outputs": [],
   "source": [
    "from nltk.tokenize import WordPunctTokenizer\n",
    "\n",
    "\n",
    "tokenizer = WordPunctTokenizer()\n",
    "\n",
    "\n",
    "def tokenize(sent):\n",
    "    return tokenizer.tokenize(sent.lower())"
   ]
  },
  {
   "cell_type": "code",
   "execution_count": 12,
   "metadata": {
    "id": "LmshoKhRpQVj"
   },
   "outputs": [],
   "source": [
    "from collections import Counter\n",
    "\n",
    "from torchtext.vocab import vocab as Vocab\n",
    "\n",
    "\n",
    "src_counter = Counter()\n",
    "trg_counter = Counter()\n",
    "for src, trg in train_data:\n",
    "    src_counter.update(tokenize(src))\n",
    "    trg_counter.update(tokenize(trg))\n",
    "\n",
    "src_vocab = Vocab(src_counter, min_freq=3)\n",
    "trg_vocab = Vocab(trg_counter, min_freq=3)"
   ]
  },
  {
   "cell_type": "code",
   "execution_count": null,
   "metadata": {
    "colab": {
     "base_uri": "https://localhost:8080/"
    },
    "id": "RxBsel4JpaTP",
    "outputId": "b30fe108-e327-44c7-f49f-385d10e68ecf"
   },
   "outputs": [
    {
     "name": "stdout",
     "output_type": "stream",
     "text": [
      "Source (en) vocabulary size: 6711\n",
      "Target (ru) vocabulary size: 9310\n"
     ]
    }
   ],
   "source": [
    "unk_token = \"<unk>\"\n",
    "sos_token, eos_token, pad_token = \"<sos>\", \"<eos>\", \"<pad>\"\n",
    "specials = [sos_token, eos_token, pad_token]\n",
    "\n",
    "for vocab in [src_vocab, trg_vocab]:\n",
    "    if unk_token not in vocab:\n",
    "        vocab.insert_token(unk_token, index=0)\n",
    "        vocab.set_default_index(0)\n",
    "\n",
    "    for token in specials:\n",
    "        if token not in vocab:\n",
    "            vocab.append_token(token)\n",
    "\n",
    "print(f\"Source (en) vocabulary size: {len(src_vocab)}\")\n",
    "print(f\"Target (ru) vocabulary size: {len(trg_vocab)}\")"
   ]
  },
  {
   "cell_type": "code",
   "execution_count": 35,
   "metadata": {
    "id": "DpFjrwNHpiZq"
   },
   "outputs": [],
   "source": [
    "def encode(sent, vocab):\n",
    "    tokenized = [sos_token] + tokenize(sent) + [eos_token]\n",
    "    return [vocab[tok] for tok in tokenized]"
   ]
  },
  {
   "cell_type": "code",
   "execution_count": null,
   "metadata": {
    "colab": {
     "base_uri": "https://localhost:8080/"
    },
    "id": "QpWUg9RuqGXm",
    "outputId": "a965c473-5760-48c9-bd98-aa7b2915519a"
   },
   "outputs": [
    {
     "data": {
      "text/plain": [
       "(torch.Size([40, 128]), torch.Size([38, 128]))"
      ]
     },
     "execution_count": 10,
     "metadata": {},
     "output_type": "execute_result"
    }
   ],
   "source": [
    "from torch.nn.utils.rnn import pad_sequence\n",
    "from torch.utils.data import DataLoader\n",
    "\n",
    "\n",
    "def collate_batch(batch):\n",
    "    src_list, trg_list = [], []\n",
    "    for src, trg in batch:\n",
    "        src_encoded = encode(src, src_vocab)\n",
    "        src_list.append(torch.tensor(src_encoded))\n",
    "\n",
    "        trg_encoded = encode(trg, trg_vocab)\n",
    "        trg_list.append(torch.tensor(trg_encoded))\n",
    "\n",
    "    src_padded = pad_sequence(src_list, padding_value=src_vocab[pad_token])\n",
    "    trg_padded = pad_sequence(trg_list, padding_value=trg_vocab[pad_token])\n",
    "    return src_padded, trg_padded\n",
    "\n",
    "\n",
    "batch_size = 128\n",
    "train_dataloader = DataLoader(train_data, batch_size, shuffle=True, collate_fn=collate_batch)\n",
    "val_dataloader = DataLoader(val_data, batch_size, shuffle=False, collate_fn=collate_batch)\n",
    "test_dataloader = DataLoader(test_data, batch_size, shuffle=False, collate_fn=collate_batch)\n",
    "\n",
    "src_batch, trg_batch = next(iter(train_dataloader))\n",
    "src_batch.shape, trg_batch.shape"
   ]
  },
  {
   "cell_type": "markdown",
   "metadata": {
    "id": "8nvNQhzfPsAe"
   },
   "source": [
    "## Model side"
   ]
  },
  {
   "cell_type": "markdown",
   "metadata": {
    "id": "5GQFqLfIeMN2"
   },
   "source": [
    "## 1. CNN Encoder.\n",
    "Модель состоит из CNN энкодера с 16 слоями, в качестве декодера используется одна GRU. По какой-то причине она не смогла обучиться, bleu почти нулевой. "
   ]
  },
  {
   "cell_type": "code",
   "execution_count": null,
   "metadata": {
    "colab": {
     "base_uri": "https://localhost:8080/",
     "height": 35
    },
    "id": "PmP5krZ73_Y3",
    "outputId": "2d6874e8-bed3-49a1-9ff0-d4835bb7d3f4"
   },
   "outputs": [
    {
     "data": {
      "application/vnd.google.colaboratory.intrinsic+json": {
       "type": "string"
      },
      "text/plain": [
       "'cuda'"
      ]
     },
     "execution_count": 24,
     "metadata": {},
     "output_type": "execute_result"
    }
   ],
   "source": [
    "device"
   ]
  },
  {
   "cell_type": "code",
   "execution_count": null,
   "metadata": {
    "id": "IpO2jTh4eT84"
   },
   "outputs": [],
   "source": [
    "class PositionalEncoding(nn.Module):\n",
    "\n",
    "    def __init__(self, d_model, dropout=0.1, max_len=200):\n",
    "        super(PositionalEncoding, self).__init__()\n",
    "        self.dropout = nn.Dropout(p=dropout)\n",
    "\n",
    "        pe = torch.zeros(max_len, d_model)\n",
    "        position = torch.arange(0, max_len, dtype=torch.float).unsqueeze(1)\n",
    "        div_term = torch.exp(torch.arange(0, d_model, 2).float() * (-np.log(10000.0) / d_model))\n",
    "        pe[:, 0::2] = torch.sin(position * div_term)\n",
    "        pe[:, 1::2] = torch.cos(position * div_term)\n",
    "        pe = pe.unsqueeze(0).transpose(0, 1)\n",
    "        self.register_buffer('pe', pe)\n",
    "\n",
    "    def forward(self, x):\n",
    "        x = x + self.pe[:x.size(0), :]\n",
    "        return self.dropout(x)"
   ]
  },
  {
   "cell_type": "code",
   "execution_count": 5,
   "metadata": {
    "id": "5r8d9sTdep_V"
   },
   "outputs": [],
   "source": [
    "import torch.nn as nn\n",
    "import numpy as np\n",
    "\n",
    "\n",
    "class Encoder(nn.Module):\n",
    "  def __init__(self, n_tokens, emb_dim, hid_dim, num_layers, device, dropout):\n",
    "    super().__init__()\n",
    "    self.hid_dim = hid_dim\n",
    "    self.tok_embedding = nn.Embedding(n_tokens, emb_dim)\n",
    "    self.pos_encoding = PositionalEncoding(emb_dim)\n",
    "    self.emb2hid = nn.Linear(emb_dim, hid_dim)\n",
    "    self.hid2emb = nn.Linear(hid_dim, emb_dim)\n",
    "    self.convs = nn.ModuleList([nn.Conv1d(in_channels = hid_dim, \n",
    "                                              out_channels = 2 * hid_dim, \n",
    "                                              kernel_size = 3, \n",
    "                                              padding = 1)\n",
    "                                    for _ in range(num_layers)])\n",
    "    self.dropout = nn.Dropout(dropout)\n",
    "    self.device = device\n",
    "\n",
    "\n",
    "  def forward(self, src):\n",
    "    embedded = self.tok_embedding(src)\n",
    "    pos_enc_embedded = self.pos_encoding(embedded)\n",
    "    out = self.emb2hid(pos_enc_embedded)\n",
    "    out = out.permute(1, 2, 0)\n",
    "\n",
    "    for conv in self.convs:\n",
    "      conved = conv(self.dropout(out))\n",
    "      conved = F.glu(conved, dim=1)\n",
    "      conved = (conved + out) * torch.FloatTensor([0.1]).to(self.device)\n",
    "      out = conved\n",
    "\n",
    "    out = self.hid2emb(out.permute(0, 2, 1))\n",
    "    #out = [batch size, src len, emb dim]\n",
    "    #out_emb = [batch size, src len, emb dim]\n",
    "    out_emb = (out + pos_enc_embedded.permute(1, 0, 2)) * torch.FloatTensor([0.1]).to(self.device)\n",
    "    return out.permute(1, 0, 2), out_emb.permute(1, 0, 2)\n"
   ]
  },
  {
   "cell_type": "code",
   "execution_count": null,
   "metadata": {
    "id": "V-pgCQnseuKD"
   },
   "outputs": [],
   "source": [
    "import random\n",
    "import torch.nn.functional as F\n",
    "import torch.nn as nn\n",
    "\n",
    "\n",
    "\n",
    "class Decoder(nn.Module):\n",
    "    def __init__(self, n_tokens, emb_dim, hid_dim, n_layers, dropout,  device):\n",
    "        super().__init__()\n",
    "\n",
    "        self.n_tokens = n_tokens\n",
    "        self.hid_dim = hid_dim\n",
    "        self.n_layers = n_layers\n",
    "\n",
    "        self.embedding = nn.Embedding(n_tokens, emb_dim)\n",
    "        self.dropout = nn.Dropout(dropout)\n",
    "        self.energy = nn.Linear(hid_dim, 1)\n",
    "        self.rnn = nn.GRU(hid_dim, hid_dim, n_layers, dropout=dropout)\n",
    "        self.out = nn.Linear(hid_dim, n_tokens)\n",
    "        self.device = device\n",
    "\n",
    "    def forward(self, input, encoder_states, hidden):\n",
    "\n",
    "        seq_length = encoder_states.shape[0]\n",
    "        h_reshaped = hidden[self.n_layers-1:self.n_layers].repeat(seq_length, 1, 1)\n",
    "\n",
    "        input = input.unsqueeze(dim=0)\n",
    "        embedded = self.embedding(input)\n",
    "        embedded = self.dropout(embedded)\n",
    "        energy = torch.relu(self.energy(torch.cat((h_reshaped, encoder_states), dim=2)))\n",
    "        attention = F.softmax(energy)\n",
    "        context_vector = torch.einsum(\"snk,snl->knl\", attention, encoder_states)\n",
    "        rnn_input = torch.cat((context_vector, embedded), dim=2)\n",
    "\n",
    "\n",
    "        output, hidden = self.rnn(rnn_input)\n",
    "        hidden = F.glu(hidden, dim=2)\n",
    "        pred = self.out(output.squeeze(dim=0))\n",
    "        hidden = nn.Linear(self.n_layers, seq_length).to(self.device)(hidden.permute(2, 1, 0))\n",
    "        return pred, hidden.permute(2, 1, 0)\n",
    "\n",
    "\n",
    "class Seq2Seq(nn.Module):\n",
    "    def __init__(self, encoder, decoder):\n",
    "        super().__init__()\n",
    "\n",
    "        self.encoder = encoder\n",
    "        self.decoder = decoder\n",
    "\n",
    "        assert encoder.hid_dim == decoder.hid_dim, \"encoder and decoder must have same hidden dim\"\n",
    "        #assert (\n",
    "        #    encoder.n_layers == decoder.n_layers\n",
    "        #), \"encoder and decoder must have equal number of layers\"\n",
    "\n",
    "    def forward(self, src, trg, teacher_forcing_ratio=0.5):\n",
    "        trg_len, batch_size = trg.shape\n",
    "        preds = []\n",
    "        encoder_states, hidden = self.encoder(src)\n",
    "\n",
    "        # First input to the decoder is the <sos> token.\n",
    "        input = trg[0, :]\n",
    "        for i in range(1, trg_len):\n",
    "            pred, hidden = self.decoder(input, encoder_states, hidden)\n",
    "            preds.append(pred)\n",
    "            teacher_force = random.random() < teacher_forcing_ratio\n",
    "            _, top_pred = pred.max(dim=1)\n",
    "            input = trg[i, :] if teacher_force else top_pred\n",
    "\n",
    "        return torch.stack(preds)"
   ]
  },
  {
   "cell_type": "code",
   "execution_count": null,
   "metadata": {
    "id": "QBrXQ9vMe1jS"
   },
   "outputs": [],
   "source": [
    "device = \"cuda\" if torch.cuda.is_available() else \"cpu\"\n",
    "enc = Encoder(len(src_vocab), emb_dim=256, hid_dim=512, num_layers=16, device=device, dropout=0.5)\n",
    "dec = Decoder(len(trg_vocab), emb_dim=256, hid_dim=512, n_layers=1, dropout=0, device=device)\n",
    "model = Seq2Seq(enc, dec).cuda()"
   ]
  },
  {
   "cell_type": "code",
   "execution_count": null,
   "metadata": {
    "id": "v6O5EC_5e4cI"
   },
   "outputs": [],
   "source": [
    "def init_weights(m):\n",
    "    for name, param in m.named_parameters():\n",
    "        nn.init.uniform_(param, -0.08, 0.08)\n",
    "\n",
    "\n",
    "model.apply(init_weights);"
   ]
  },
  {
   "cell_type": "code",
   "execution_count": null,
   "metadata": {
    "colab": {
     "base_uri": "https://localhost:8080/"
    },
    "id": "MM5mRT_7e8pA",
    "outputId": "7af7a7ca-9c8b-46c1-db68-93640f75b8c1"
   },
   "outputs": [
    {
     "name": "stdout",
     "output_type": "stream",
     "text": [
      "The model has 35,898,975 trainable parameters\n"
     ]
    }
   ],
   "source": [
    "def count_parameters(model):\n",
    "    return sum(p.numel() for p in model.parameters() if p.requires_grad)\n",
    "\n",
    "\n",
    "print(f\"The model has {count_parameters(model):,} trainable parameters\")"
   ]
  },
  {
   "cell_type": "code",
   "execution_count": null,
   "metadata": {
    "id": "OeApL5Hpe_dU"
   },
   "outputs": [],
   "source": [
    "from torch.optim.lr_scheduler import MultiStepLR, ExponentialLR\n",
    "\n",
    "optimizer = torch.optim.Adam(model.parameters())\n",
    "scheduler = MultiStepLR(optimizer, milestones=[5, 8], gamma=0.1)\n",
    "criterion = nn.CrossEntropyLoss(ignore_index=trg_vocab[pad_token])\n",
    "loss_history, train_loss_history, val_loss_history = [], [], []"
   ]
  },
  {
   "cell_type": "code",
   "execution_count": null,
   "metadata": {
    "colab": {
     "base_uri": "https://localhost:8080/",
     "height": 35
    },
    "id": "nuD8FeYKfCD2",
    "outputId": "39d50f85-81d5-4cd7-a1da-dcef1d46cadb"
   },
   "outputs": [
    {
     "data": {
      "application/vnd.google.colaboratory.intrinsic+json": {
       "type": "string"
      },
      "text/plain": [
       "'cuda'"
      ]
     },
     "execution_count": 231,
     "metadata": {},
     "output_type": "execute_result"
    }
   ],
   "source": [
    "device"
   ]
  },
  {
   "cell_type": "code",
   "execution_count": null,
   "metadata": {
    "colab": {
     "base_uri": "https://localhost:8080/",
     "height": 334
    },
    "id": "jKB1qROZfFCF",
    "outputId": "859b94f0-37b9-4def-e522-96d5de5c2f79"
   },
   "outputs": [
    {
     "data": {
      "image/png": "[encoded data removed]",
      "text/plain": [
       "<Figure size 1080x360 with 2 Axes>"
      ]
     },
     "metadata": {
      "needs_background": "light"
     },
     "output_type": "display_data"
    }
   ],
   "source": [
    "import matplotlib.pyplot as plt\n",
    "from IPython.display import clear_output\n",
    "from torch.nn.utils import clip_grad_norm_\n",
    "\n",
    "\n",
    "# Please don't use tensorboard here.\n",
    "# It doesn't save the training plots in the notebook.\n",
    "n_epochs = 10\n",
    "clip = 1\n",
    "for epoch in range(n_epochs):\n",
    "    model.train()\n",
    "    train_loss = 0\n",
    "    for src, trg in train_dataloader:\n",
    "        src, trg = src.to('cuda'), trg.to('cuda')\n",
    "        output = model(src, trg)\n",
    "\n",
    "        output = output.view(-1, output.shape[-1])\n",
    "        trg = trg[1:].view(-1)\n",
    "\n",
    "        loss = criterion(output, trg)\n",
    "        optimizer.zero_grad()\n",
    "        loss.backward()\n",
    "        clip_grad_norm_(model.parameters(), clip)\n",
    "        optimizer.step()\n",
    "        train_loss += loss.item()\n",
    "        loss_history.append(loss.item())\n",
    "\n",
    "        if len(loss_history) % 10 == 0:\n",
    "            clear_output(wait=True)\n",
    "\n",
    "            plt.figure(figsize=(15, 5))\n",
    "\n",
    "            plt.subplot(121)\n",
    "            plt.plot(loss_history)\n",
    "            plt.xlabel(\"step\")\n",
    "\n",
    "            plt.subplot(122)\n",
    "            plt.plot(train_loss_history, label=\"train loss\")\n",
    "            plt.plot(val_loss_history, label=\"val loss\")\n",
    "            plt.xlabel(\"epoch\")\n",
    "            plt.legend()\n",
    "\n",
    "            plt.show()\n",
    "\n",
    "    train_loss /= len(train_dataloader)\n",
    "    train_loss_history.append(train_loss)\n",
    "\n",
    "    model.eval()\n",
    "    val_loss = 0\n",
    "    with torch.no_grad():\n",
    "        for src, trg in val_dataloader:\n",
    "            src, trg = src.to(device), trg.to(device)\n",
    "            output = model(src, trg)\n",
    "\n",
    "            output = output.view(-1, output.shape[-1])\n",
    "            trg = trg[1:].view(-1)\n",
    "\n",
    "            loss = criterion(output, trg)\n",
    "\n",
    "            val_loss += loss.item()\n",
    "\n",
    "    val_loss /= len(val_dataloader)\n",
    "    val_loss_history.append(val_loss)\n",
    "    scheduler.step()\n",
    "    #print(scheduler.get_last_lr())"
   ]
  },
  {
   "cell_type": "code",
   "execution_count": null,
   "metadata": {
    "colab": {
     "base_uri": "https://localhost:8080/"
    },
    "id": "F9gAshHE78IE",
    "outputId": "9a83e1d6-dccc-42ee-eecf-257c6d67ccac"
   },
   "outputs": [
    {
     "name": "stderr",
     "output_type": "stream",
     "text": [
      "/usr/local/lib/python3.7/dist-packages/ipykernel_launcher.py:31: UserWarning: Implicit dimension choice for softmax has been deprecated. Change the call to include dim=X as an argument.\n"
     ]
    },
    {
     "name": "stdout",
     "output_type": "stream",
     "text": [
      "src: 'all apartments have a dvd player and satellite tv, a kitchen with a microwave, and a washing machine and a tumble dryer.'\n",
      "trg: 'все они оснащены телевизором со спутниковыми каналами и dvd-плеером, а также располагают кухней с микроволновой печью и стиральной/сушильной машиной.'\n",
      "pred: 'в <unk> <unk> <unk> <unk> <unk> <unk> <unk> <unk> <unk> <unk> <unk> <unk> <unk> <unk> <unk> <unk> <unk> <unk> <unk> <unk> <unk> <unk> <unk> <unk> <unk> <unk> <unk> <unk> <unk> <unk> <unk> <unk> <unk> <unk> <unk> <unk> <unk> <unk> <unk>'\n",
      "\n",
      "src: 'they are fitted with blackout curtains, free drinking water and free toiletries.'\n",
      "trg: 'гостям предоставляется бесплатная питьевая вода и бесплатные туалетно-косметическими принадлежности.'\n",
      "pred: 'в <unk> <unk> <unk> <unk> <unk> <unk> <unk> <unk> <unk> <unk> <unk> <unk> <unk> <unk> <unk> <unk> <unk> <unk> <unk> <unk> <unk> <unk> <unk> <unk> <unk> <unk> <unk> <unk> <unk> <unk> <unk> <unk> <unk> <unk> <unk> <unk> <unk> <unk> <unk>'\n",
      "\n",
      "src: 'a small refrigerator, coffee-making facilities and a work desk are included.'\n",
      "trg: 'к услугам гостей также небольшой холодильник, принадлежности для кофе и рабочий стол.'\n",
      "pred: 'в <unk> <unk> <unk> <unk> <unk> <unk> <unk> <unk> <unk> <unk> <unk> <unk> <unk> <unk> <unk> <unk> <unk> <unk> <unk> <unk> <unk> <unk> <unk> <unk> <unk> <unk> <unk> <unk> <unk> <unk> <unk> <unk> <unk> <unk> <unk> <unk> <unk> <unk> <unk>'\n",
      "\n",
      "src: 'only 250 metres away, paral•lel metro station offers direct links to plaça catalunya and montjuïc hill.'\n",
      "trg: 'всего в 250 метрах расположена станция метро paral•lel, откуда можно без пересадок добраться до площади каталонии и горы монжуик.'\n",
      "pred: 'в <unk> <unk> <unk> <unk> <unk> <unk> <unk> <unk> <unk> <unk> <unk> <unk> <unk> <unk> <unk> <unk> <unk> <unk> <unk> <unk> <unk> <unk> <unk> <unk> <unk> <unk> <unk> <unk> <unk> <unk> <unk> <unk> <unk> <unk> <unk> <unk> <unk> <unk> <unk>'\n",
      "\n",
      "src: 'the apartment will provide you with a satellite tv and air conditioning.there is a full a kitchen with a dishwasher and a refrigerator.'\n",
      "trg: 'апартаменты оснащены кондиционером и спутниковым телевидением. полноценная кухня оборудована посудомоечной машиной и холодильником.'\n",
      "pred: 'в <unk> <unk> <unk> <unk> <unk> <unk> <unk> <unk> <unk> <unk> <unk> <unk> <unk> <unk> <unk> <unk> <unk> <unk> <unk> <unk> <unk> <unk> <unk> <unk> <unk> <unk> <unk> <unk> <unk> <unk> <unk> <unk> <unk> <unk> <unk> <unk> <unk> <unk> <unk>'\n",
      "\n",
      "src: 'cooked breakfast is served each morning at monk coniston, with a buffet selection including cereals, fresh fruit, yoghurts, croissants and pastries. there is also porridge, toast, juice, tea and coffee.'\n",
      "trg: 'каждое утро в загородном доме monk coniston сервируют полный английский завтрак и завтрак «шведский стол» с зерновыми хлопьями, свежими фруктами, йогуртами, круассанами и выпечкой, а также овсянкой, тостами, соком, чаем и кофе.'\n",
      "pred: 'в <unk> <unk> <unk> <unk> <unk> <unk> <unk> <unk> <unk> <unk> <unk> <unk> <unk> <unk> <unk> <unk> <unk> <unk> <unk> <unk> <unk> <unk> <unk> <unk> <unk> <unk> <unk> <unk> <unk> <unk> <unk> <unk> <unk> <unk> <unk> <unk> <unk> <unk> <unk>'\n",
      "\n",
      "src: 'the hotel’s position on the rua de santa catarina shopping street offers convenient access to boutiques, bars and eateries.'\n",
      "trg: 'местоположение отеля на торговой улице руа-де-санта-катарина позволит гостям с легкостью добраться до бутиков, баров и кафе.'\n",
      "pred: 'в <unk> <unk> <unk> <unk> <unk> <unk> <unk> <unk> <unk> <unk> <unk> <unk> <unk> <unk> <unk> <unk> <unk> <unk> <unk> <unk> <unk> <unk> <unk> <unk> <unk> <unk> <unk> <unk> <unk> <unk> <unk> <unk> <unk> <unk> <unk> <unk> <unk> <unk> <unk>'\n",
      "\n",
      "src: 'it also has a tranquil garden terrace.'\n",
      "trg: 'на тихой террасе разбит сад.'\n",
      "pred: 'в <unk> <unk> <unk> <unk> <unk> <unk> <unk> <unk> <unk> <unk> <unk> <unk> <unk> <unk> <unk> <unk> <unk> <unk> <unk> <unk> <unk> <unk> <unk> <unk> <unk> <unk> <unk> <unk> <unk> <unk> <unk> <unk> <unk> <unk> <unk> <unk> <unk> <unk> <unk>'\n",
      "\n",
      "src: 'offering accommodation with air conditioning, residenza romana zucchelli is set in rome, 200 metres from piazza barberini. piazza di spagna is 400 metres from the property.'\n",
      "trg: 'комплекс residenza romana zucchelli расположен в риме, в 200 метрах от площади барберини и в 400 метрах от площади испании.'\n",
      "pred: 'в <unk> <unk> <unk> <unk> <unk> <unk> <unk> <unk> <unk> <unk> <unk> <unk> <unk> <unk> <unk> <unk> <unk> <unk> <unk> <unk> <unk> <unk> <unk> <unk> <unk> <unk> <unk> <unk> <unk> <unk> <unk> <unk> <unk> <unk> <unk> <unk> <unk> <unk> <unk>'\n",
      "\n",
      "src: 'parking is free on site.'\n",
      "trg: 'на территории предоставляется бесплатная парковка.'\n",
      "pred: 'в <unk> <unk> <unk> <unk> <unk> <unk> <unk> <unk> <unk> <unk> <unk> <unk> <unk> <unk> <unk> <unk> <unk> <unk> <unk> <unk> <unk> <unk> <unk> <unk> <unk> <unk> <unk> <unk> <unk> <unk> <unk> <unk> <unk> <unk> <unk> <unk> <unk> <unk> <unk>'\n",
      "\n",
      "src: 'guests can find a free internet point and free beach towels during their stay.'\n",
      "trg: 'во время пребывания на территории бесплатно предоставляются пляжные полотенца и доступ в интернет.'\n",
      "pred: 'в <unk> <unk> <unk> <unk> <unk> <unk> <unk> <unk> <unk> <unk> <unk> <unk> <unk> <unk> <unk> <unk> <unk> <unk> <unk> <unk> <unk> <unk> <unk> <unk> <unk> <unk> <unk> <unk> <unk> <unk> <unk> <unk> <unk> <unk> <unk> <unk> <unk> <unk> <unk>'\n",
      "\n"
     ]
    }
   ],
   "source": [
    "trg_itos = trg_vocab.get_itos()\n",
    "model.eval()\n",
    "max_len = 40\n",
    "with torch.no_grad():\n",
    "    for i, (src, trg) in enumerate(val_data):\n",
    "        encoded = encode(src, src_vocab)[::-1]\n",
    "        encoded = torch.tensor(encoded)[:, None].to(device)\n",
    "        out, hidden = model.encoder(encoded)\n",
    "\n",
    "        pred_tokens = [trg_vocab[sos_token]]\n",
    "        for _ in range(max_len):\n",
    "            decoder_input = torch.tensor([pred_tokens[-1]]).to(device)\n",
    "            pred, hidden = model.decoder(decoder_input, out, hidden)\n",
    "            _, pred_token = pred.max(dim=1)\n",
    "            if pred_token == trg_vocab[eos_token]:\n",
    "                # Don't add it to prediction for cleaner output.\n",
    "                break\n",
    "\n",
    "            pred_tokens.append(pred_token.item())\n",
    "\n",
    "        print(f\"src: '{src.rstrip().lower()}'\")\n",
    "        print(f\"trg: '{trg.rstrip().lower()}'\")\n",
    "        print(f\"pred: '{' '.join(trg_itos[i] for i in pred_tokens[1:])}'\")\n",
    "        print()\n",
    "\n",
    "        if i == 10:\n",
    "            break"
   ]
  },
  {
   "cell_type": "code",
   "execution_count": null,
   "metadata": {
    "colab": {
     "base_uri": "https://localhost:8080/"
    },
    "id": "zhQPYoGW8F9l",
    "outputId": "b22b9a59-f2f2-4f3f-b9e8-8ca3f8a77013"
   },
   "outputs": [
    {
     "name": "stderr",
     "output_type": "stream",
     "text": [
      "/usr/local/lib/python3.7/dist-packages/ipykernel_launcher.py:31: UserWarning: Implicit dimension choice for softmax has been deprecated. Change the call to include dim=X as an argument.\n"
     ]
    },
    {
     "name": "stdout",
     "output_type": "stream",
     "text": [
      "Your model shows test BLEU of 0.1\n"
     ]
    }
   ],
   "source": [
    "from nltk.translate.bleu_score import corpus_bleu\n",
    "\n",
    "\n",
    "references, hypotheses = [], []\n",
    "with torch.no_grad():\n",
    "    for src, trg in test_dataloader:\n",
    "        output = model(src.to(device), trg.to(device), teacher_forcing_ratio=0)\n",
    "        output = output.cpu().numpy().argmax(axis=2)\n",
    "\n",
    "        for i in range(trg.shape[1]):\n",
    "            reference = trg[:, i]\n",
    "            reference_tokens = [trg_itos[id_] for id_ in reference]\n",
    "            reference_tokens = [tok for tok in reference_tokens if tok not in specials]\n",
    "            references.append(reference_tokens)\n",
    "\n",
    "            hypothesis = output[:, i]\n",
    "            hypothesis_tokens = [trg_itos[id_] for id_ in hypothesis]\n",
    "            hypothesis_tokens = [tok for tok in hypothesis_tokens if tok not in specials]\n",
    "            hypotheses.append(hypothesis_tokens)\n",
    "\n",
    "# corpus_bleu works with multiple references\n",
    "bleu = corpus_bleu([[ref] for ref in references], hypotheses)\n",
    "print(f\"Your model shows test BLEU of {100 * bleu:.1f}\")"
   ]
  },
  {
   "cell_type": "markdown",
   "metadata": {
    "id": "i9hHhduLPsAh"
   },
   "source": [
    "Baseline solution BLEU score is quite low. Try to achieve at least __24__ BLEU on the test set. \n",
    "The checkpoints are:\n",
    "\n",
    "* __22__ - minimal score to submit the homework, 30% of points\n",
    "\n",
    "* __27__ - good score, 70% of points\n",
    "\n",
    "* __29__ - excellent score, 100% of points"
   ]
  },
  {
   "cell_type": "markdown",
   "metadata": {
    "id": "YRKnfCHpoEis"
   },
   "source": [
    "## 2.Seq2Seq with Packing/Padding + Masked Attention + MultiStep scheduler"
   ]
  },
  {
   "cell_type": "markdown",
   "metadata": {},
   "source": [
    "Обычный seq2seq, но с packing и padding. Также была добавлена маска для того, чтобы при вычислении attention\n",
    "не учитывался padding последовательности. Удалось достичь $23.3$ bleu."
   ]
  },
  {
   "cell_type": "code",
   "execution_count": null,
   "metadata": {
    "colab": {
     "base_uri": "https://localhost:8080/"
    },
    "id": "MFJw6J7C2EHr",
    "outputId": "ed4be093-3985-4725-aaec-9997d74aee5c"
   },
   "outputs": [
    {
     "data": {
      "text/plain": [
       "(torch.Size([46, 128]), torch.Size([45, 128]), 128)"
      ]
     },
     "execution_count": 37,
     "metadata": {},
     "output_type": "execute_result"
    }
   ],
   "source": [
    "from torch.nn.utils.rnn import pad_sequence\n",
    "from torch.utils.data import DataLoader\n",
    "\n",
    "\n",
    "def collate_batch(batch):\n",
    "    src_list, trg_list, src_len = [], [], []\n",
    "    for src, trg in batch:\n",
    "        src_encoded = encode(src, src_vocab)\n",
    "        src_list.append(torch.tensor(src_encoded))\n",
    "        src_len.append(len(src_encoded))\n",
    "        trg_encoded = encode(trg, trg_vocab)\n",
    "        trg_list.append(torch.tensor(trg_encoded))\n",
    "\n",
    "    src_padded = pad_sequence(src_list, padding_value=src_vocab[pad_token])\n",
    "    trg_padded = pad_sequence(trg_list, padding_value=trg_vocab[pad_token])\n",
    "    return src_padded, trg_padded, src_len\n",
    "\n",
    "\n",
    "batch_size = 128\n",
    "train_dataloader = DataLoader(train_data, batch_size, shuffle=True, collate_fn=collate_batch)\n",
    "val_dataloader = DataLoader(val_data, batch_size, shuffle=False, collate_fn=collate_batch)\n",
    "test_dataloader = DataLoader(test_data, batch_size, shuffle=False, collate_fn=collate_batch)\n",
    "\n",
    "src_batch, trg_batch, src_len = next(iter(train_dataloader))\n",
    "src_batch.shape, trg_batch.shape, len(src_len)"
   ]
  },
  {
   "cell_type": "code",
   "execution_count": 22,
   "metadata": {
    "id": "TCy47epqoJ6r"
   },
   "outputs": [],
   "source": [
    "from torch.nn.utils.rnn import pack_padded_sequence, pad_packed_sequence\n",
    "import torch.nn as nn\n",
    "\n",
    "class Encoder(nn.Module):\n",
    "    def __init__(self, n_tokens, emb_dim, hid_dim, n_layers, dropout):\n",
    "        super().__init__()\n",
    "\n",
    "        self.n_tokens = n_tokens\n",
    "        self.hid_dim = hid_dim\n",
    "        self.n_layers = n_layers\n",
    "        self.dropout = nn.Dropout(dropout)\n",
    "        self.embedding = nn.Embedding(n_tokens, emb_dim)\n",
    "        self.rnn = nn.LSTM(emb_dim, hid_dim, n_layers, dropout=dropout)\n",
    "        self.fc = nn.Linear(hid_dim * 2, hid_dim)\n",
    "\n",
    "    def forward(self, src, src_len):\n",
    "        embedded = self.embedding(src)\n",
    "        embedded = self.dropout(embedded)\n",
    "        packed_embedded = pack_padded_sequence(embedded, src_len, enforce_sorted=False)\n",
    "        packed_out, hidden = self.rnn(packed_embedded)\n",
    "        out, _ = pad_packed_sequence(packed_out)\n",
    "        return out, hidden\n"
   ]
  },
  {
   "cell_type": "code",
   "execution_count": 23,
   "metadata": {
    "id": "Xj073UFUpNV6"
   },
   "outputs": [],
   "source": [
    "class Decoder(nn.Module):\n",
    "    def __init__(self, n_tokens, emb_dim, hid_dim, n_layers, dropout):\n",
    "        super().__init__()\n",
    "\n",
    "        self.n_tokens = n_tokens\n",
    "        self.hid_dim = hid_dim\n",
    "        self.n_layers = n_layers\n",
    "        self.embedding = nn.Embedding(n_tokens, emb_dim)\n",
    "        self.dropout = nn.Dropout(dropout)\n",
    "        self.attn = nn.Linear(hid_dim*2, hid_dim)\n",
    "        self.energy = nn.Linear(hid_dim, 1)\n",
    "        self.rnn = nn.LSTM(hid_dim + emb_dim, hid_dim, n_layers, dropout=dropout)\n",
    "        self.out = nn.Linear(hid_dim, n_tokens)\n",
    "\n",
    "    def forward(self, input, encoder_states, hidden, mask):\n",
    "\n",
    "        #encoder_states = [src_len, batch_size, hid_dim]\n",
    "        seq_length = encoder_states.shape[0]\n",
    "        hidden_state, cell_state = hidden\n",
    "        h_reshaped = hidden_state[1:2].repeat(seq_length, 1, 1)\n",
    "\n",
    " \n",
    "        input = input.unsqueeze(dim=0)\n",
    "        embedded = self.embedding(input)\n",
    "        embedded = self.dropout(embedded)\n",
    "        energy = torch.relu(self.attn(torch.cat((h_reshaped, encoder_states), dim=2)))\n",
    "        energy = self.energy(energy)\n",
    "\n",
    "        energy = energy.masked_fill_(mask == 0, -1e10)\n",
    "        attention = F.softmax(energy)\n",
    "        context_vector = torch.einsum(\"snk,snl->knl\", attention, encoder_states)\n",
    "        rnn_input = torch.cat((context_vector, embedded), dim=2)\n",
    "\n",
    "\n",
    "        output, hidden = self.rnn(rnn_input, hidden)\n",
    "        pred = self.out(output.squeeze(dim=0))\n",
    "        return pred, hidden\n",
    "\n",
    "\n",
    "class Seq2Seq(nn.Module):\n",
    "    def __init__(self, encoder, decoder, pad_idx):\n",
    "        super().__init__()\n",
    "\n",
    "        self.encoder = encoder\n",
    "        self.decoder = decoder\n",
    "        self.pad_idx = pad_idx\n",
    "\n",
    "        assert encoder.hid_dim == decoder.hid_dim, \"encoder and decoder must have same hidden dim\"\n",
    "        assert (\n",
    "            encoder.n_layers == decoder.n_layers\n",
    "        ), \"encoder and decoder must have equal number of layers\"\n",
    "\n",
    "    def create_mask(self, src):\n",
    "      mask = src != self.pad_idx\n",
    "      return mask\n",
    "\n",
    "    def forward(self, src, src_len, trg, teacher_forcing_ratio=0.5):\n",
    "        trg_len, batch_size = trg.shape\n",
    "        preds = []\n",
    "        encoder_states, hidden = self.encoder(src, src_len)\n",
    "\n",
    "        # First input to the decoder is the <sos> token.\n",
    "        input = trg[0, :]\n",
    "        mask = self.create_mask(src).unsqueeze(2)\n",
    "        for i in range(1, trg_len):\n",
    "            pred, hidden = self.decoder(input, encoder_states, hidden, mask)\n",
    "            preds.append(pred)\n",
    "            teacher_force = random.random() < teacher_forcing_ratio\n",
    "            _, top_pred = pred.max(dim=1)\n",
    "            input = trg[i, :] if teacher_force else top_pred\n",
    "\n",
    "        return torch.stack(preds)"
   ]
  },
  {
   "cell_type": "code",
   "execution_count": null,
   "metadata": {
    "id": "QZ8s6aFkrO8i"
   },
   "outputs": [],
   "source": [
    "import numpy as np\n",
    "device = \"cuda\" if torch.cuda.is_available() else \"cpu\"\n",
    "enc = Encoder(len(src_vocab), emb_dim=256, hid_dim=512, n_layers=2, dropout=0.5)\n",
    "dec = Decoder(len(trg_vocab), emb_dim=256, hid_dim=512, n_layers=2, dropout=0.5)\n",
    "model = Seq2Seq(enc, dec, pad_idx=src_vocab[pad_token]).cuda()"
   ]
  },
  {
   "cell_type": "code",
   "execution_count": null,
   "metadata": {
    "id": "UXy4Z5k8rbuH"
   },
   "outputs": [],
   "source": [
    "def init_weights(m):\n",
    "    for name, param in m.named_parameters():\n",
    "        nn.init.uniform_(param, -0.08, 0.08)\n",
    "\n",
    "\n",
    "model.apply(init_weights);"
   ]
  },
  {
   "cell_type": "code",
   "execution_count": null,
   "metadata": {
    "colab": {
     "base_uri": "https://localhost:8080/"
    },
    "id": "DAfkDWGcr-M-",
    "outputId": "4be81b60-2ced-4a95-b041-1694231a8b05"
   },
   "outputs": [
    {
     "name": "stdout",
     "output_type": "stream",
     "text": [
      "The model has 18,332,511 trainable parameters\n"
     ]
    }
   ],
   "source": [
    "def count_parameters(model):\n",
    "    return sum(p.numel() for p in model.parameters() if p.requires_grad)\n",
    "\n",
    "\n",
    "print(f\"The model has {count_parameters(model):,} trainable parameters\")"
   ]
  },
  {
   "cell_type": "code",
   "execution_count": null,
   "metadata": {
    "id": "wVYakEnrsEMs"
   },
   "outputs": [],
   "source": [
    "from torch.optim.lr_scheduler import MultiStepLR, ExponentialLR\n",
    "\n",
    "optimizer = torch.optim.Adam(model.parameters())\n",
    "scheduler = MultiStepLR(optimizer, milestones=[20, 30], gamma=0.1)\n",
    "criterion = nn.CrossEntropyLoss(ignore_index=trg_vocab[pad_token])\n",
    "loss_history, train_loss_history, val_loss_history = [], [], []"
   ]
  },
  {
   "cell_type": "code",
   "execution_count": null,
   "metadata": {
    "colab": {
     "base_uri": "https://localhost:8080/",
     "height": 334
    },
    "id": "qmbHhWGusXrr",
    "outputId": "6c6ba86e-f96a-49c9-9fdf-d0ca8758b43a"
   },
   "outputs": [
    {
     "data": {
      "image/png": "[encoded data removed]",
      "text/plain": [
       "<Figure size 1080x360 with 2 Axes>"
      ]
     },
     "metadata": {
      "needs_background": "light"
     },
     "output_type": "display_data"
    }
   ],
   "source": [
    "import matplotlib.pyplot as plt\n",
    "from IPython.display import clear_output\n",
    "from torch.nn.utils import clip_grad_norm_\n",
    "from torch.nn import functional as F\n",
    "import random\n",
    "\n",
    "\n",
    "# Please don't use tensorboard here.\n",
    "# It doesn't save the training plots in the notebook.\n",
    "n_epochs = 40\n",
    "clip = 1\n",
    "for epoch in range(n_epochs):\n",
    "    model.train()\n",
    "    train_loss = 0\n",
    "    for src, trg, src_len in train_dataloader:\n",
    "        src, trg = src.to('cuda'), trg.to('cuda')\n",
    "        output = model(src, src_len, trg)\n",
    "\n",
    "        output = output.view(-1, output.shape[-1])\n",
    "        trg = trg[1:].view(-1)\n",
    "\n",
    "        loss = criterion(output, trg)\n",
    "        optimizer.zero_grad()\n",
    "        loss.backward()\n",
    "        clip_grad_norm_(model.parameters(), clip)\n",
    "        optimizer.step()\n",
    "        train_loss += loss.item()\n",
    "        loss_history.append(loss.item())\n",
    "\n",
    "        if len(loss_history) % 10 == 0:\n",
    "            clear_output(wait=True)\n",
    "\n",
    "            plt.figure(figsize=(15, 5))\n",
    "\n",
    "            plt.subplot(121)\n",
    "            plt.plot(loss_history)\n",
    "            plt.xlabel(\"step\")\n",
    "\n",
    "            plt.subplot(122)\n",
    "            plt.plot(train_loss_history, label=\"train loss\")\n",
    "            plt.plot(val_loss_history, label=\"val loss\")\n",
    "            plt.xlabel(\"epoch\")\n",
    "            plt.legend()\n",
    "\n",
    "            plt.show()\n",
    "\n",
    "    train_loss /= len(train_dataloader)\n",
    "    train_loss_history.append(train_loss)\n",
    "\n",
    "    model.eval()\n",
    "    val_loss = 0\n",
    "    with torch.no_grad():\n",
    "        for src, trg, src_len in val_dataloader:\n",
    "            src, trg = src.to(device), trg.to(device),\n",
    "            output = model(src, src_len, trg)\n",
    "\n",
    "            output = output.view(-1, output.shape[-1])\n",
    "            trg = trg[1:].view(-1)\n",
    "\n",
    "            loss = criterion(output, trg)\n",
    "\n",
    "            val_loss += loss.item()\n",
    "\n",
    "    val_loss /= len(val_dataloader)\n",
    "    val_loss_history.append(val_loss)\n",
    "    scheduler.step()\n",
    "    #print(scheduler.get_last_lr())"
   ]
  },
  {
   "cell_type": "code",
   "execution_count": null,
   "metadata": {
    "colab": {
     "base_uri": "https://localhost:8080/"
    },
    "id": "LfsMmN0sP43h",
    "outputId": "b8330fc8-a3de-4447-cf81-d4733893d4b4"
   },
   "outputs": [
    {
     "name": "stderr",
     "output_type": "stream",
     "text": [
      "/usr/local/lib/python3.7/dist-packages/ipykernel_launcher.py:30: UserWarning: Implicit dimension choice for softmax has been deprecated. Change the call to include dim=X as an argument.\n"
     ]
    },
    {
     "name": "stdout",
     "output_type": "stream",
     "text": [
      "Your model shows test BLEU of 23.3\n"
     ]
    }
   ],
   "source": [
    "from nltk.translate.bleu_score import corpus_bleu\n",
    "\n",
    "\n",
    "references, hypotheses = [], []\n",
    "with torch.no_grad():\n",
    "    for src, trg, src_len in test_dataloader:\n",
    "        output = model(src.to(device), src_len, trg.to(device), teacher_forcing_ratio=0)\n",
    "        output = output.cpu().numpy().argmax(axis=2)\n",
    "\n",
    "        for i in range(trg.shape[1]):\n",
    "            reference = trg[:, i]\n",
    "            reference_tokens = [trg_itos[id_] for id_ in reference]\n",
    "            reference_tokens = [tok for tok in reference_tokens if tok not in specials]\n",
    "            references.append(reference_tokens)\n",
    "\n",
    "            hypothesis = output[:, i]\n",
    "            hypothesis_tokens = [trg_itos[id_] for id_ in hypothesis]\n",
    "            hypothesis_tokens = [tok for tok in hypothesis_tokens if tok not in specials]\n",
    "            hypotheses.append(hypothesis_tokens)\n",
    "\n",
    "# corpus_bleu works with multiple references\n",
    "bleu = corpus_bleu([[ref] for ref in references], hypotheses)\n",
    "print(f\"Your model shows test BLEU of {100 * bleu:.1f}\")"
   ]
  },
  {
   "cell_type": "markdown",
   "metadata": {
    "id": "diRbgq8IY6DF"
   },
   "source": [
    "## 3.Seq2Seq with Packing/Padding + Masked Attention + MultiStep scheduler+BPE"
   ]
  },
  {
   "cell_type": "markdown",
   "metadata": {},
   "source": [
    "После добавления BPE качество модели значительно увеличилось, с $23.3$ bleu до $29.7$ bleu."
   ]
  },
  {
   "cell_type": "code",
   "execution_count": 11,
   "metadata": {
    "colab": {
     "base_uri": "https://localhost:8080/"
    },
    "id": "k3QTK6SYP9qj",
    "outputId": "bb0ffd05-11a8-4fbe-b598-ad0738f5809e"
   },
   "outputs": [],
   "source": [
    "!pip install sentencepiece"
   ]
  },
  {
   "cell_type": "code",
   "execution_count": 4,
   "metadata": {
    "id": "VpPxkbIhY85I"
   },
   "outputs": [],
   "source": [
    "from sentencepiece import SentencePieceTrainer, SentencePieceProcessor"
   ]
  },
  {
   "cell_type": "code",
   "execution_count": 7,
   "metadata": {
    "id": "VQc1kh8qZAsh"
   },
   "outputs": [],
   "source": [
    "with open(\"train_data.txt\", \"w\") as f:\n",
    "  for sent in train_data:\n",
    "    f.write(sent[0] + \"\\n\")\n",
    "  f.close()\n"
   ]
  },
  {
   "cell_type": "code",
   "execution_count": 8,
   "metadata": {
    "id": "BHHfshGTZDu3"
   },
   "outputs": [],
   "source": [
    "with open(\"val_data.txt\", \"w\") as f:\n",
    "  for sent in val_data:\n",
    "    f.write(sent[0] + \"\\n\")\n",
    "  f.close()\n"
   ]
  },
  {
   "cell_type": "code",
   "execution_count": 9,
   "metadata": {
    "id": "U9DNTxs2ZF_3"
   },
   "outputs": [],
   "source": [
    "with open(\"test_data.txt\", \"w\") as f:\n",
    "  for sent in test_data:\n",
    "    f.write(sent[0] + \"\\n\")\n",
    "  f.close()\n"
   ]
  },
  {
   "cell_type": "code",
   "execution_count": 13,
   "metadata": {
    "colab": {
     "base_uri": "https://localhost:8080/"
    },
    "id": "Hf52J-x7ZIQW",
    "outputId": "b8563955-2cf6-43a3-dcdb-4646279fa63d"
   },
   "outputs": [
    {
     "name": "stdout",
     "output_type": "stream",
     "text": [
      "--input=train_data.txt --model_type=bpe --model_prefix=src_sentencepiece --vocab_size=6707 --pad_id=0 --unk_id=1 --bos_id=2 --eos_id=3\n"
     ]
    }
   ],
   "source": [
    "input_file = 'train_data.txt'\n",
    "max_num_words = len(src_vocab)\n",
    "model_type = 'bpe'\n",
    "model_prefix = 'src_sentencepiece'\n",
    "pad_id = 0\n",
    "unk_id = 1\n",
    "bos_id = 2\n",
    "eos_id = 3\n",
    "\n",
    "sentencepiece_params = ' '.join([\n",
    "    '--input={}'.format(input_file),\n",
    "    '--model_type={}'.format(model_type),\n",
    "    '--model_prefix={}'.format(model_prefix),\n",
    "    '--vocab_size={}'.format(max_num_words),\n",
    "    '--pad_id={}'.format(pad_id),\n",
    "    '--unk_id={}'.format(unk_id),\n",
    "    '--bos_id={}'.format(bos_id),\n",
    "    '--eos_id={}'.format(eos_id)\n",
    "])\n",
    "print(sentencepiece_params)\n",
    "SentencePieceTrainer.train(sentencepiece_params)"
   ]
  },
  {
   "cell_type": "code",
   "execution_count": 14,
   "metadata": {
    "colab": {
     "base_uri": "https://localhost:8080/"
    },
    "id": "PUVYPpMpZOVQ",
    "outputId": "57aac778-5892-4f97-cc59-6cbb3880c052"
   },
   "outputs": [
    {
     "name": "stdout",
     "output_type": "stream",
     "text": [
      "Found 6707 unique tokens.\n"
     ]
    }
   ],
   "source": [
    "sp = SentencePieceProcessor()\n",
    "sp.load(\"{}.model\".format(model_prefix))\n",
    "print('Found %s unique tokens.' % sp.get_piece_size())"
   ]
  },
  {
   "cell_type": "code",
   "execution_count": 15,
   "metadata": {
    "colab": {
     "base_uri": "https://localhost:8080/"
    },
    "id": "naRoZMSKZQkZ",
    "outputId": "d217795f-c70f-4478-a0f0-8f309f0042f7"
   },
   "outputs": [
    {
     "name": "stdout",
     "output_type": "stream",
     "text": [
      "--input=train_data.txt --model_type=bpe --model_prefix=trg_sentencepiece --vocab_size=9306 --pad_id=0 --unk_id=1 --bos_id=2 --eos_id=3\n"
     ]
    }
   ],
   "source": [
    "input_file = 'train_data.txt'\n",
    "max_num_words = len(trg_vocab)\n",
    "model_type = 'bpe'\n",
    "model_trg_prefix = 'trg_sentencepiece'\n",
    "pad_id = 0\n",
    "unk_id = 1\n",
    "bos_id = 2\n",
    "eos_id = 3\n",
    "\n",
    "sentencepiece_params = ' '.join([\n",
    "    '--input={}'.format(input_file),\n",
    "    '--model_type={}'.format(model_type),\n",
    "    '--model_prefix={}'.format(model_trg_prefix),\n",
    "    '--vocab_size={}'.format(max_num_words),\n",
    "    '--pad_id={}'.format(pad_id),\n",
    "    '--unk_id={}'.format(unk_id),\n",
    "    '--bos_id={}'.format(bos_id),\n",
    "    '--eos_id={}'.format(eos_id)\n",
    "])\n",
    "print(sentencepiece_params)\n",
    "SentencePieceTrainer.train(sentencepiece_params)"
   ]
  },
  {
   "cell_type": "code",
   "execution_count": 16,
   "metadata": {
    "colab": {
     "base_uri": "https://localhost:8080/"
    },
    "id": "0hyqKtf3ZU-R",
    "outputId": "4946e505-933d-4441-e4ec-5fd70a52d156"
   },
   "outputs": [
    {
     "name": "stdout",
     "output_type": "stream",
     "text": [
      "Found 9306 unique tokens.\n"
     ]
    }
   ],
   "source": [
    "sp_trg = SentencePieceProcessor()\n",
    "sp_trg.load(\"{}.model\".format(model_trg_prefix))\n",
    "print('Found %s unique tokens.' % sp_trg.get_piece_size())"
   ]
  },
  {
   "cell_type": "code",
   "execution_count": 17,
   "metadata": {
    "id": "xB5mN_tAZ9dh"
   },
   "outputs": [],
   "source": [
    "from collections import Counter\n",
    "\n",
    "from torchtext.vocab import vocab as Vocab\n",
    "\n",
    "\n",
    "src_counter = Counter()\n",
    "trg_counter = Counter()\n",
    "for src, trg in train_data:\n",
    "    src_counter.update(tokenize(src))\n",
    "    trg_counter.update(tokenize(trg))\n",
    "\n",
    "src_vocab = Vocab(src_counter, min_freq=3)\n",
    "trg_vocab = Vocab(trg_counter, min_freq=3)"
   ]
  },
  {
   "cell_type": "code",
   "execution_count": 18,
   "metadata": {
    "colab": {
     "base_uri": "https://localhost:8080/"
    },
    "id": "rpLx4t83aCbK",
    "outputId": "61167f0c-5d2a-434b-bfaa-d11d9d77c7ab"
   },
   "outputs": [
    {
     "name": "stdout",
     "output_type": "stream",
     "text": [
      "Source (en) vocabulary size: 6711\n",
      "Target (ru) vocabulary size: 9310\n"
     ]
    }
   ],
   "source": [
    "unk_token = \"<unk>\"\n",
    "sos_token, eos_token, pad_token = \"<sos>\", \"<eos>\", \"<pad>\"\n",
    "specials = [sos_token, eos_token, pad_token]\n",
    "\n",
    "for vocab in [src_vocab, trg_vocab]:\n",
    "    if unk_token not in vocab:\n",
    "        vocab.insert_token(unk_token, index=1)\n",
    "        vocab.set_default_index(0)\n",
    "\n",
    "    vocab.insert_token(sos_token, 2)\n",
    "    vocab.insert_token(eos_token, 3)\n",
    "    vocab.insert_token(pad_token, 0)\n",
    "\n",
    "print(f\"Source (en) vocabulary size: {len(src_vocab)}\")\n",
    "print(f\"Target (ru) vocabulary size: {len(trg_vocab)}\")"
   ]
  },
  {
   "cell_type": "code",
   "execution_count": 19,
   "metadata": {
    "id": "_zQQIFvsb4QL"
   },
   "outputs": [],
   "source": [
    "def collate_batch(batch):\n",
    "    src_list, trg_list, src_len = [], [], []\n",
    "    for src, trg in batch:\n",
    "        src_piece = sp.encode_as_pieces(src)\n",
    "        src_encoded = sp.piece_to_id(src_piece)\n",
    "        src_list.append(torch.tensor(src_encoded))\n",
    "        src_len.append(len(src_encoded))\n",
    "\n",
    "        trg_piece = sp_trg.encode_as_pieces(trg)\n",
    "        trg_encoded = sp_trg.piece_to_id(trg_piece)\n",
    "        trg_list.append(torch.tensor(trg_encoded))\n",
    "\n",
    "    src_padded = pad_sequence(src_list, padding_value=src_vocab[pad_token])\n",
    "    trg_padded = pad_sequence(trg_list, padding_value=trg_vocab[pad_token])\n",
    "    return src_padded, trg_padded, src_len"
   ]
  },
  {
   "cell_type": "code",
   "execution_count": 20,
   "metadata": {
    "id": "eCZz-ivCcWIA"
   },
   "outputs": [],
   "source": [
    "from torch.utils.data import DataLoader\n",
    "batch_size=64\n",
    "train_dataloader = DataLoader(train_data, batch_size, shuffle=True, collate_fn=collate_batch)\n",
    "val_dataloader = DataLoader(val_data, batch_size, shuffle=False, collate_fn=collate_batch)\n",
    "test_dataloader = DataLoader(test_data, batch_size, shuffle=False, collate_fn=collate_batch)"
   ]
  },
  {
   "cell_type": "code",
   "execution_count": 24,
   "metadata": {
    "id": "fTqNSOlhaXTk"
   },
   "outputs": [],
   "source": [
    "import numpy as np\n",
    "device = \"cuda\" if torch.cuda.is_available() else \"cpu\"\n",
    "enc = Encoder(len(src_vocab), emb_dim=256, hid_dim=512, n_layers=2, dropout=0.5)\n",
    "dec = Decoder(len(trg_vocab), emb_dim=256, hid_dim=512, n_layers=2, dropout=0.5)\n",
    "model = Seq2Seq(enc, dec, pad_idx=src_vocab[pad_token]).cuda()"
   ]
  },
  {
   "cell_type": "code",
   "execution_count": 25,
   "metadata": {
    "id": "HFdu_DLWaoHP"
   },
   "outputs": [],
   "source": [
    "def init_weights(m):\n",
    "    for name, param in m.named_parameters():\n",
    "        nn.init.uniform_(param, -0.08, 0.08)\n",
    "\n",
    "\n",
    "model.apply(init_weights);"
   ]
  },
  {
   "cell_type": "code",
   "execution_count": 26,
   "metadata": {
    "id": "tL8tuayNawc1"
   },
   "outputs": [],
   "source": [
    "from torch.optim.lr_scheduler import MultiStepLR, ExponentialLR\n",
    "\n",
    "optimizer = torch.optim.Adam(model.parameters())\n",
    "scheduler = MultiStepLR(optimizer, milestones=[20, 30], gamma=0.1)\n",
    "criterion = nn.CrossEntropyLoss(ignore_index=trg_vocab[pad_token])\n",
    "loss_history, train_loss_history, val_loss_history = [], [], []"
   ]
  },
  {
   "cell_type": "code",
   "execution_count": 32,
   "metadata": {
    "colab": {
     "base_uri": "https://localhost:8080/",
     "height": 334
    },
    "id": "il7yTpUtaICc",
    "outputId": "f72e13bc-2389-40ad-ae95-b6ebb784b877"
   },
   "outputs": [
    {
     "data": {
      "image/png": "[encoded data removed]",
      "text/plain": [
       "<Figure size 1080x360 with 2 Axes>"
      ]
     },
     "metadata": {
      "needs_background": "light"
     },
     "output_type": "display_data"
    }
   ],
   "source": [
    "import matplotlib.pyplot as plt\n",
    "from IPython.display import clear_output\n",
    "from torch.nn.utils import clip_grad_norm_\n",
    "from torch.nn.utils.rnn import pad_sequence\n",
    "from torch.nn import functional as F\n",
    "import random\n",
    "\n",
    "\n",
    "# Please don't use tensorboard here.\n",
    "# It doesn't save the training plots in the notebook.\n",
    "n_epochs = 40\n",
    "clip = 1\n",
    "for epoch in range(n_epochs):\n",
    "    model.train()\n",
    "    train_loss = 0\n",
    "    for src, trg, src_len in train_dataloader:\n",
    "        src, trg = src.to('cuda'), trg.to('cuda')\n",
    "        output = model(src, src_len, trg)\n",
    "\n",
    "        output = output.view(-1, output.shape[-1])\n",
    "        trg = trg[1:].view(-1)\n",
    "\n",
    "        loss = criterion(output, trg)\n",
    "        optimizer.zero_grad()\n",
    "        loss.backward()\n",
    "        clip_grad_norm_(model.parameters(), clip)\n",
    "        optimizer.step()\n",
    "        train_loss += loss.item()\n",
    "        loss_history.append(loss.item())\n",
    "\n",
    "        if len(loss_history) % 10 == 0:\n",
    "            clear_output(wait=True)\n",
    "\n",
    "            plt.figure(figsize=(15, 5))\n",
    "\n",
    "            plt.subplot(121)\n",
    "            plt.plot(loss_history)\n",
    "            plt.xlabel(\"step\")\n",
    "\n",
    "            plt.subplot(122)\n",
    "            plt.plot(train_loss_history, label=\"train loss\")\n",
    "            plt.plot(val_loss_history, label=\"val loss\")\n",
    "            plt.xlabel(\"epoch\")\n",
    "            plt.legend()\n",
    "\n",
    "            plt.show()\n",
    "\n",
    "    train_loss /= len(train_dataloader)\n",
    "    train_loss_history.append(train_loss)\n",
    "\n",
    "    model.eval()\n",
    "    val_loss = 0\n",
    "    with torch.no_grad():\n",
    "        for src, trg, src_len in val_dataloader:\n",
    "            src, trg = src.to(device), trg.to(device),\n",
    "            output = model(src, src_len, trg)\n",
    "\n",
    "            output = output.view(-1, output.shape[-1])\n",
    "            trg = trg[1:].view(-1)\n",
    "\n",
    "            loss = criterion(output, trg)\n",
    "\n",
    "            val_loss += loss.item()\n",
    "\n",
    "    val_loss /= len(val_dataloader)\n",
    "    val_loss_history.append(val_loss)\n",
    "    scheduler.step()\n",
    "    #print(scheduler.get_last_lr())"
   ]
  },
  {
   "cell_type": "code",
   "execution_count": 33,
   "metadata": {
    "colab": {
     "base_uri": "https://localhost:8080/"
    },
    "id": "ZEakgGJwhD5p",
    "outputId": "75b134d8-b7e2-4ce5-f243-1ea64d8325e5"
   },
   "outputs": [
    {
     "name": "stderr",
     "output_type": "stream",
     "text": [
      "/usr/local/lib/python3.7/dist-packages/ipykernel_launcher.py:30: UserWarning: Implicit dimension choice for softmax has been deprecated. Change the call to include dim=X as an argument.\n"
     ]
    },
    {
     "name": "stdout",
     "output_type": "stream",
     "text": [
      "Your model shows test BLEU of 29.7\n"
     ]
    }
   ],
   "source": [
    "from nltk.translate.bleu_score import corpus_bleu\n",
    "trg_itos = trg_vocab.get_itos()\n",
    "\n",
    "references, hypotheses = [], []\n",
    "with torch.no_grad():\n",
    "    for src, trg, src_len in test_dataloader:\n",
    "        output = model(src.to(device), src_len, trg.to(device), teacher_forcing_ratio=0)\n",
    "        output = output.cpu().numpy().argmax(axis=2)\n",
    "\n",
    "        for i in range(trg.shape[1]):\n",
    "            reference = trg[:, i]\n",
    "            reference_tokens = [trg_itos[id_] for id_ in reference]\n",
    "            reference_tokens = [tok for tok in reference_tokens if tok not in specials]\n",
    "            references.append(reference_tokens)\n",
    "\n",
    "            hypothesis = output[:, i]\n",
    "            hypothesis_tokens = [trg_itos[id_] for id_ in hypothesis]\n",
    "            hypothesis_tokens = [tok for tok in hypothesis_tokens if tok not in specials]\n",
    "            hypotheses.append(hypothesis_tokens)\n",
    "\n",
    "# corpus_bleu works with multiple references\n",
    "bleu = corpus_bleu([[ref] for ref in references], hypotheses)\n",
    "print(f\"Your model shows test BLEU of {100 * bleu:.1f}\")"
   ]
  },
  {
   "cell_type": "markdown",
   "metadata": {},
   "source": [
    "**Вывод:** все перечисленные техники действительно улучшают качество модели, однако незначительно (обычно на 1-2 пункта bleu). В этом смысле лучшей техникой оказался BPE, который обеспечил прирост bleu сразу на 6 пунктов. При этом, по каким-то непонятным причинам модель с CNN энкодером не смогла обучиться, возможно дело в неправильной имплементации. "
   ]
  },
  {
   "cell_type": "code",
   "execution_count": null,
   "metadata": {},
   "outputs": [],
   "source": []
  }
 ],
 "metadata": {
  "accelerator": "GPU",
  "anaconda-cloud": {},
  "colab": {
   "collapsed_sections": [],
   "machine_shape": "hm",
   "name": "Копия_блокнота__Lab1_NLP_part2_NMT_ipynb__(3) (2).ipynb",
   "provenance": []
  },
  "kernelspec": {
   "display_name": "Python 3",
   "language": "python",
   "name": "python3"
  },
  "language_info": {
   "codemirror_mode": {
    "name": "ipython",
    "version": 3
   },
   "file_extension": ".py",
   "mimetype": "text/x-python",
   "name": "python",
   "nbconvert_exporter": "python",
   "pygments_lexer": "ipython3",
   "version": "3.7.4"
  }
 },
 "nbformat": 4,
 "nbformat_minor": 1
}
