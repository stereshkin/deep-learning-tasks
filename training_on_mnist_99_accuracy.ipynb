{
 "cells": [
  {
   "cell_type": "code",
   "execution_count": 65,
   "metadata": {},
   "outputs": [],
   "source": [
    "import torch\n",
    "from torch import nn\n",
    "\n",
    "class SimpleNet(nn.Module):\n",
    "    def __init__(self, in_channels=1, out_features=10):\n",
    "        super(SimpleNet, self).__init__()\n",
    "        self.conv_layers = nn.Sequential(\n",
    "\n",
    "            nn.Conv2d(in_channels=in_channels, out_channels=20, kernel_size=3),\n",
    "            nn.ReLU(inplace=False),\n",
    "            nn.MaxPool2d(kernel_size=3, stride=2),\n",
    "            nn.Conv2d(in_channels=20, out_channels=25, kernel_size=3),\n",
    "            nn.ReLU(inplace=False),\n",
    "            nn.Conv2d(in_channels=25, out_channels=30, kernel_size=3),\n",
    "            nn.ReLU(inplace=False),\n",
    "            nn.Conv2d(in_channels=30, out_channels=35, kernel_size=3)\n",
    "        )\n",
    "\n",
    "        self.fcs = nn.Sequential(\n",
    "            nn.Linear(in_features=1260, out_features=out_features)\n",
    "        )\n",
    "\n",
    "    def forward(self, x):\n",
    "        x = self.conv_layers(x)\n",
    "        x = x.view(x.shape[0], -1)\n",
    "        x = self.fcs(x)\n",
    "        return x "
   ]
  },
  {
   "cell_type": "code",
   "execution_count": 66,
   "metadata": {},
   "outputs": [],
   "source": [
    "from torchvision.datasets import MNIST\n",
    "from torch import optim\n",
    "from torch.utils.data import DataLoader\n",
    "from tqdm import tqdm\n",
    "from time import sleep\n",
    "from torchvision.transforms import ToTensor, Normalize, Compose"
   ]
  },
  {
   "cell_type": "code",
   "execution_count": 67,
   "metadata": {},
   "outputs": [],
   "source": [
    "train_data = MNIST(root='./mnist_train.pt', train=True, download=True, transform=Compose([ToTensor(), Normalize(0, 1)]))\n",
    "test_data = MNIST(root='./mnist_test.pt', train=False, download=True, transform=Compose([ToTensor(), Normalize(0, 1)]))"
   ]
  },
  {
   "cell_type": "code",
   "execution_count": 68,
   "metadata": {},
   "outputs": [],
   "source": [
    "device = 'cuda' if torch.cuda.is_available() else 'cpu'\n",
    "#device = 'cpu'\n",
    "model = SimpleNet(in_channels=1, out_features=10).to(device)\n",
    "optimizer = optim.Adam(model.parameters())\n",
    "loss_fn = nn.CrossEntropyLoss()\n",
    "BATCH_SIZE = 200\n",
    "scheduler = optim.lr_scheduler.ExponentialLR(optimizer, gamma=0.9)\n",
    "\n",
    "\n",
    "train_loader = DataLoader(\n",
    "    dataset=train_data,\n",
    "    batch_size=BATCH_SIZE,\n",
    "    num_workers=1\n",
    ")"
   ]
  },
  {
   "cell_type": "code",
   "execution_count": 69,
   "metadata": {},
   "outputs": [
    {
     "name": "stderr",
     "output_type": "stream",
     "text": [
      "Epoch 1: 100%|██████████| 300/300 [01:01<00:00,  4.86batch/s, accuracy=97.5, loss=0.156] \n",
      "Epoch 2: 100%|██████████| 300/300 [01:03<00:00,  4.73batch/s, accuracy=98.5, loss=0.129] \n",
      "Epoch 3: 100%|██████████| 300/300 [01:03<00:00,  4.75batch/s, accuracy=99, loss=0.118]   \n",
      "Epoch 4: 100%|██████████| 300/300 [01:04<00:00,  4.64batch/s, accuracy=99, loss=0.107]   \n",
      "Epoch 5: 100%|██████████| 300/300 [01:02<00:00,  4.83batch/s, accuracy=99, loss=0.101]    \n",
      "Epoch 6: 100%|██████████| 300/300 [01:00<00:00,  4.96batch/s, accuracy=99.5, loss=0.0973] \n",
      "Epoch 7: 100%|██████████| 300/300 [01:04<00:00,  4.68batch/s, accuracy=99.5, loss=0.0957] \n",
      "Epoch 8: 100%|██████████| 300/300 [01:02<00:00,  4.81batch/s, accuracy=99.5, loss=0.0936] \n",
      "Epoch 9: 100%|██████████| 300/300 [01:02<00:00,  4.79batch/s, accuracy=99.5, loss=0.0915] \n",
      "Epoch 10: 100%|██████████| 300/300 [01:01<00:00,  4.87batch/s, accuracy=99.5, loss=0.0906] \n",
      "Epoch 11: 100%|██████████| 300/300 [01:02<00:00,  4.81batch/s, accuracy=99.5, loss=0.0903] \n",
      "Epoch 12: 100%|██████████| 300/300 [01:01<00:00,  4.90batch/s, accuracy=99.5, loss=0.09]   \n",
      "Epoch 13: 100%|██████████| 300/300 [01:02<00:00,  4.78batch/s, accuracy=99.5, loss=0.0898] \n",
      "Epoch 14: 100%|██████████| 300/300 [01:01<00:00,  4.88batch/s, accuracy=99.5, loss=0.0895] \n",
      "Epoch 15: 100%|██████████| 300/300 [00:59<00:00,  5.01batch/s, accuracy=99.5, loss=0.0888] \n",
      "Epoch 16: 100%|██████████| 300/300 [01:02<00:00,  4.83batch/s, accuracy=99.5, loss=0.0878] \n",
      "Epoch 17: 100%|██████████| 300/300 [01:00<00:00,  4.92batch/s, accuracy=99.5, loss=0.0869] \n",
      "Epoch 18: 100%|██████████| 300/300 [00:59<00:00,  5.01batch/s, accuracy=99.5, loss=0.086]  \n",
      "Epoch 19: 100%|██████████| 300/300 [01:00<00:00,  4.97batch/s, accuracy=99.5, loss=0.085]  \n",
      "Epoch 20: 100%|██████████| 300/300 [00:59<00:00,  5.02batch/s, accuracy=99.5, loss=0.0842] \n",
      "Epoch 21: 100%|██████████| 300/300 [01:05<00:00,  4.55batch/s, accuracy=99.5, loss=0.0831] \n",
      "Epoch 22: 100%|██████████| 300/300 [01:02<00:00,  4.78batch/s, accuracy=99.5, loss=0.0823] \n",
      "Epoch 23: 100%|██████████| 300/300 [01:08<00:00,  4.40batch/s, accuracy=99.5, loss=0.0814] \n",
      "Epoch 24: 100%|██████████| 300/300 [00:59<00:00,  5.00batch/s, accuracy=99.5, loss=0.0807] \n",
      "Epoch 25: 100%|██████████| 300/300 [01:04<00:00,  4.65batch/s, accuracy=99.5, loss=0.0803] \n",
      "Epoch 26: 100%|██████████| 300/300 [00:59<00:00,  5.05batch/s, accuracy=99.5, loss=0.08]   \n",
      "Epoch 27: 100%|██████████| 300/300 [01:00<00:00,  4.97batch/s, accuracy=99.5, loss=0.0799] \n",
      "Epoch 28: 100%|██████████| 300/300 [01:02<00:00,  4.78batch/s, accuracy=99.5, loss=0.0797] \n",
      "Epoch 29: 100%|██████████| 300/300 [00:59<00:00,  5.01batch/s, accuracy=99.5, loss=0.0796] \n",
      "Epoch 30: 100%|██████████| 300/300 [01:00<00:00,  4.92batch/s, accuracy=99.5, loss=0.0795] \n",
      "Epoch 31: 100%|██████████| 300/300 [00:59<00:00,  5.04batch/s, accuracy=99.5, loss=0.0793] \n",
      "Epoch 32: 100%|██████████| 300/300 [01:00<00:00,  4.95batch/s, accuracy=99.5, loss=0.0792] \n",
      "Epoch 33: 100%|██████████| 300/300 [01:01<00:00,  4.87batch/s, accuracy=99.5, loss=0.0791] \n",
      "Epoch 34: 100%|██████████| 300/300 [01:02<00:00,  4.84batch/s, accuracy=99.5, loss=0.079]  \n",
      "Epoch 35: 100%|██████████| 300/300 [01:04<00:00,  4.62batch/s, accuracy=99.5, loss=0.0789] \n",
      "Epoch 36: 100%|██████████| 300/300 [01:05<00:00,  4.59batch/s, accuracy=99.5, loss=0.0788] \n",
      "Epoch 37: 100%|██████████| 300/300 [01:05<00:00,  4.58batch/s, accuracy=99.5, loss=0.0787] \n",
      "Epoch 38: 100%|██████████| 300/300 [01:07<00:00,  4.42batch/s, accuracy=99.5, loss=0.0786] \n",
      "Epoch 39: 100%|██████████| 300/300 [01:04<00:00,  4.62batch/s, accuracy=99.5, loss=0.0785] \n",
      "Epoch 40: 100%|██████████| 300/300 [01:02<00:00,  4.79batch/s, accuracy=99.5, loss=0.0785] \n",
      "Epoch 41: 100%|██████████| 300/300 [01:01<00:00,  4.89batch/s, accuracy=99.5, loss=0.0784] \n",
      "Epoch 42: 100%|██████████| 300/300 [01:04<00:00,  4.66batch/s, accuracy=99.5, loss=0.0784] \n",
      "Epoch 43: 100%|██████████| 300/300 [01:03<00:00,  4.74batch/s, accuracy=99.5, loss=0.0783] \n",
      "Epoch 44: 100%|██████████| 300/300 [01:05<00:00,  4.56batch/s, accuracy=99.5, loss=0.0783] \n",
      "Epoch 45: 100%|██████████| 300/300 [01:06<00:00,  4.51batch/s, accuracy=99.5, loss=0.0783] \n",
      "Epoch 46: 100%|██████████| 300/300 [01:01<00:00,  4.91batch/s, accuracy=99.5, loss=0.0783] \n",
      "Epoch 47: 100%|██████████| 300/300 [01:04<00:00,  4.64batch/s, accuracy=99.5, loss=0.0782] \n",
      "Epoch 48: 100%|██████████| 300/300 [01:04<00:00,  4.68batch/s, accuracy=99.5, loss=0.0782] \n",
      "Epoch 49: 100%|██████████| 300/300 [01:06<00:00,  4.50batch/s, accuracy=99.5, loss=0.0782] \n",
      "Epoch 50: 100%|██████████| 300/300 [01:02<00:00,  4.79batch/s, accuracy=99.5, loss=0.0781] \n",
      "Epoch 51: 100%|██████████| 300/300 [01:03<00:00,  4.75batch/s, accuracy=99.5, loss=0.0781] \n",
      "Epoch 52: 100%|██████████| 300/300 [01:02<00:00,  4.79batch/s, accuracy=99.5, loss=0.0781] \n",
      "Epoch 53: 100%|██████████| 300/300 [01:22<00:00,  3.66batch/s, accuracy=99.5, loss=0.078]  \n",
      "Epoch 54: 100%|██████████| 300/300 [01:36<00:00,  3.10batch/s, accuracy=99.5, loss=0.078]  \n",
      "Epoch 55: 100%|██████████| 300/300 [01:39<00:00,  3.02batch/s, accuracy=99.5, loss=0.078]  \n",
      "Epoch 56: 100%|██████████| 300/300 [02:07<00:00,  2.35batch/s, accuracy=99.5, loss=0.078]  \n",
      "Epoch 57: 100%|██████████| 300/300 [01:45<00:00,  2.85batch/s, accuracy=99.5, loss=0.0779] \n",
      "Epoch 58: 100%|██████████| 300/300 [01:41<00:00,  2.96batch/s, accuracy=99.5, loss=0.0779] \n",
      "Epoch 59: 100%|██████████| 300/300 [01:43<00:00,  2.89batch/s, accuracy=99.5, loss=0.0779] \n",
      "Epoch 60: 100%|██████████| 300/300 [01:20<00:00,  3.72batch/s, accuracy=99.5, loss=0.0779] \n",
      "Epoch 61: 100%|██████████| 300/300 [01:11<00:00,  4.21batch/s, accuracy=99.5, loss=0.0779] \n",
      "Epoch 62: 100%|██████████| 300/300 [01:04<00:00,  4.66batch/s, accuracy=99.5, loss=0.0779] \n",
      "Epoch 63: 100%|██████████| 300/300 [01:04<00:00,  4.63batch/s, accuracy=99.5, loss=0.0778] \n",
      "Epoch 64: 100%|██████████| 300/300 [01:10<00:00,  4.24batch/s, accuracy=99.5, loss=0.0778] \n",
      "Epoch 65: 100%|██████████| 300/300 [01:31<00:00,  3.27batch/s, accuracy=99.5, loss=0.0778] \n",
      "Epoch 66: 100%|██████████| 300/300 [01:17<00:00,  3.89batch/s, accuracy=99.5, loss=0.0778] \n",
      "Epoch 67: 100%|██████████| 300/300 [01:04<00:00,  4.66batch/s, accuracy=99.5, loss=0.0778] \n",
      "Epoch 68: 100%|██████████| 300/300 [01:01<00:00,  4.88batch/s, accuracy=99.5, loss=0.0778] \n",
      "Epoch 69: 100%|██████████| 300/300 [01:02<00:00,  4.80batch/s, accuracy=99.5, loss=0.0778] \n",
      "Epoch 70: 100%|██████████| 300/300 [01:02<00:00,  4.80batch/s, accuracy=99.5, loss=0.0778] \n"
     ]
    }
   ],
   "source": [
    "for epoch in range(1, 71):\n",
    "    with tqdm(train_loader, unit=\"batch\") as tepoch:\n",
    "        for data, target in tepoch:\n",
    "            tepoch.set_description(f\"Epoch {epoch}\")\n",
    "            \n",
    "            data, target = data.to(device), target.to(device)\n",
    "            optimizer.zero_grad()\n",
    "            output = model(data)\n",
    "            predictions = output.argmax(dim=1, keepdim=True).squeeze()\n",
    "            loss = loss_fn(output, target)\n",
    "            correct = (predictions == target).sum().item()\n",
    "            accuracy = correct / BATCH_SIZE\n",
    "            \n",
    "            loss.backward()\n",
    "            optimizer.step()\n",
    "\n",
    "            tepoch.set_postfix(loss=loss.item(), accuracy=100. * accuracy)\n",
    "            sleep(0.1)\n",
    "        scheduler.step()    "
   ]
  },
  {
   "cell_type": "code",
   "execution_count": 70,
   "metadata": {},
   "outputs": [],
   "source": [
    "test_loader = DataLoader(\n",
    "    dataset=test_data\n",
    ")"
   ]
  },
  {
   "cell_type": "code",
   "execution_count": 71,
   "metadata": {},
   "outputs": [
    {
     "name": "stdout",
     "output_type": "stream",
     "text": [
      "Accuracy == 99.22 %\n"
     ]
    }
   ],
   "source": [
    "total = 0\n",
    "correct = 0\n",
    "with torch.no_grad():\n",
    "    for data in test_loader:\n",
    "        images, labels = data\n",
    "        images, labels = images.to(device), labels.to(device)\n",
    "        outputs = model(images)\n",
    "        _, predictions = torch.max(outputs.data, dim=1)\n",
    "        total += labels.size(0)\n",
    "        correct += (predictions == labels).sum().item()\n",
    "\n",
    "print('Accuracy == {} %'.format(100 * correct / total))"
   ]
  },
  {
   "cell_type": "code",
   "execution_count": 72,
   "metadata": {},
   "outputs": [
    {
     "name": "stdout",
     "output_type": "stream",
     "text": [
      "33600\n"
     ]
    }
   ],
   "source": [
    "print(sum(p.numel() for p in model.parameters() if p.requires_grad))"
   ]
  },
  {
   "cell_type": "code",
   "execution_count": null,
   "metadata": {},
   "outputs": [],
   "source": []
  }
 ],
 "metadata": {
  "kernelspec": {
   "display_name": "Python 3",
   "language": "python",
   "name": "python3"
  },
  "language_info": {
   "codemirror_mode": {
    "name": "ipython",
    "version": 3
   },
   "file_extension": ".py",
   "mimetype": "text/x-python",
   "name": "python",
   "nbconvert_exporter": "python",
   "pygments_lexer": "ipython3",
   "version": "3.7.4"
  }
 },
 "nbformat": 4,
 "nbformat_minor": 2
}
