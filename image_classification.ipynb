{
  "cells": [
    {
      "cell_type": "markdown",
      "metadata": {
        "id": "8lp4BjHbq8cD"
      },
      "source": [
        "## Lab 2: final challenges\n",
        "\n",
        "__Вам предлагается решить задачу классификации сигналов или задачу классификации изображений. Или обе ;)__\n",
        "\n",
        "__Выполнение этих заданий не является обязательным, но позитивно повлияет на вашу итоговую оценку. Успехов!__\n"
      ]
    },
    {
      "cell_type": "markdown",
      "metadata": {
        "id": "3KBcAuMrq8cS"
      },
      "source": [
        "### Part 5. Dogs classification (2+ points)\n",
        "__Disclaimer__: Это опциональная часть задания. Здесь придется экспериментировать, подбирать оптимальную структуру сети для решения задачи и активно искать подскзаки в сети.\n",
        "\n",
        "Предлагаем вам решить задачу классификации пород собак. Вы можете обучить сеть с нуля или же воспользоваться методом fine-tuning'а. Полезная ссылка на [предобученные модели](https://pytorch.org/docs/stable/torchvision/models.html).\n",
        "\n",
        "Данные можно скачать [отсюда](https://www.dropbox.com/s/vgqpz2f1lolxmlv/data.zip?dl=0). Датасет представлен 50 классами пород собак, которые можно найти в папке train в соответствующих директориях. При сдаче данной части задания вместе с ноутбуком необходимо отправить .csv-файл с предсказаниями классов тестовой выборки в формате: <имя изображения>,<метка класса> по одному объекту на строку. Ниже приведите код ваших экспериментов и короткий вывод по их результатам.\n",
        "\n",
        "Будут оцениваться качество классификации (accuracy) на тестовой выборке (2 балла) и проведенные эксперименты (1 балл).\n",
        "Разбалловка следующая:\n",
        "* $>=$93% - 2 points\n",
        "* $>=$84% - 1.5 points\n",
        "* $>=$70% - 0.75 points"
      ]
    },
    {
      "cell_type": "markdown",
      "source": [
        "###Отчет.\n",
        "\n",
        "Сначала в качестве backbone для модели я взял EfficientNet B5 из torchvision.models, сделал finetune для последнего линейного слоя в полносвязной части модели. Обучал модель в течение 20 эпох, почему-то получил всего 70% accuracy.\n",
        "\n",
        "Затем, я разбил тренировочные даннные на тренировочную и валидационную выборки, вместо EfficientNet B5 я попробовал взять VGG19 с батч нормализацией. Далее обучал модель в течение 20 эпох, получил accuracy на валидации 86%.\n",
        "Далее, в качестве backbone я использовал Resnet-152. После обучения в течение 15 эпох получил 90.8% accuracy на валидации. При этом по построенной кривой обучения, я заметил, что минимум функции потерь и максимум accuracy на валидационных данных наблюддается после 5 эпохи. Поэтому я попробовал обучать модель 5 эпох, но результат ухудшился: 88.4%."
      ],
      "metadata": {
        "id": "-FYyeKfqlFL3"
      }
    },
    {
      "cell_type": "code",
      "execution_count": 1,
      "metadata": {
        "colab": {
          "base_uri": "https://localhost:8080/"
        },
        "id": "0g8363zeq8cS",
        "outputId": "6624ce42-dd70-4ea0-91ba-68b78dc86120"
      },
      "outputs": [
        {
          "output_type": "stream",
          "name": "stdout",
          "text": [
            "Drive already mounted at /content/drive; to attempt to forcibly remount, call drive.mount(\"/content/drive\", force_remount=True).\n"
          ]
        }
      ],
      "source": [
        "# Your experiments here\n",
        "from torchvision.datasets import ImageFolder\n",
        "from google.colab import drive\n",
        "\n",
        "drive.mount('/content/drive')"
      ]
    },
    {
      "cell_type": "code",
      "source": [
        "import os\n",
        "from torchvision import transforms, models, datasets\n",
        "import torch\n",
        "\n",
        "image_std = [0.229, 0.224, 0.225]\n",
        "image_mean = [0.485, 0.456, 0.406]\n",
        "data_transforms = transforms.Compose(\n",
        "    [transforms.ToTensor(),\n",
        "     transforms.Normalize(image_mean, image_std),\n",
        "     transforms.Resize((224, 224)),\n",
        "     transforms.RandomRotation(degrees = 20),\n",
        "     transforms.RandomHorizontalFlip()\n",
        "     ]\n",
        "     )\n",
        "data_dir = '/content/drive/My Drive/data'\n",
        "image_datasets = {x: datasets.ImageFolder(os.path.join(data_dir, x),\n",
        "                                          data_transforms)\n",
        "                  for x in ['train']}\n",
        "\n",
        "BATCH_SIZE = 16\n",
        "dataloaders = {x: torch.utils.data.DataLoader(image_datasets[x], batch_size=BATCH_SIZE,\n",
        "                                             shuffle=True, num_workers=4)\n",
        "              for x in ['train']}"
      ],
      "metadata": {
        "colab": {
          "base_uri": "https://localhost:8080/"
        },
        "id": "HNAflpXbtBPu",
        "outputId": "b14c59ea-3b57-46b4-d52d-0fedaeddf24b"
      },
      "execution_count": 2,
      "outputs": [
        {
          "output_type": "stream",
          "name": "stderr",
          "text": [
            "/usr/local/lib/python3.7/dist-packages/torch/utils/data/dataloader.py:481: UserWarning: This DataLoader will create 4 worker processes in total. Our suggested max number of worker in current system is 2, which is smaller than what this DataLoader is going to create. Please be aware that excessive worker creation might get DataLoader running slow or even freeze, lower the worker number to avoid potential slowness/freeze if necessary.\n",
            "  cpuset_checked))\n"
          ]
        }
      ]
    },
    {
      "cell_type": "code",
      "source": [
        "train_size = int(0.8 * len(image_datasets['train']))\n",
        "test_size = len(image_datasets['train']) - train_size\n",
        "train_split, val_split= torch.utils.data.random_split(image_datasets['train'], [train_size, test_size])\n",
        "train_loader, val_loader = torch.utils.data.DataLoader(train_split, batch_size=16, num_workers=4), torch.utils.data.DataLoader(val_split, batch_size=16, num_workers=4)"
      ],
      "metadata": {
        "id": "Ovs40k9-Spvg",
        "colab": {
          "base_uri": "https://localhost:8080/"
        },
        "outputId": "a1a2f59a-acb7-411b-c514-a97cdf7dd396"
      },
      "execution_count": 3,
      "outputs": [
        {
          "output_type": "stream",
          "name": "stderr",
          "text": [
            "/usr/local/lib/python3.7/dist-packages/torch/utils/data/dataloader.py:481: UserWarning: This DataLoader will create 4 worker processes in total. Our suggested max number of worker in current system is 2, which is smaller than what this DataLoader is going to create. Please be aware that excessive worker creation might get DataLoader running slow or even freeze, lower the worker number to avoid potential slowness/freeze if necessary.\n",
            "  cpuset_checked))\n"
          ]
        }
      ]
    },
    {
      "cell_type": "code",
      "source": [
        "print(len(train_loader))\n",
        "print(len(val_loader))"
      ],
      "metadata": {
        "colab": {
          "base_uri": "https://localhost:8080/"
        },
        "id": "qI-KBU8Vqjpw",
        "outputId": "31c0a6a7-bd0e-42fc-f064-7f8754eed7e7"
      },
      "execution_count": 4,
      "outputs": [
        {
          "output_type": "stream",
          "name": "stdout",
          "text": [
            "359\n",
            "90\n"
          ]
        }
      ]
    },
    {
      "cell_type": "code",
      "source": [
        "class_to_idx = image_datasets['train'].class_to_idx"
      ],
      "metadata": {
        "id": "glHWHuL_42C8"
      },
      "execution_count": 5,
      "outputs": []
    },
    {
      "cell_type": "code",
      "source": [
        "from torchvision.models import resnet152\n",
        "import torch\n",
        "from torch.optim import Adam\n",
        "import torch.nn as nn\n",
        "\n",
        "model = resnet152(pretrained=True)\n",
        "print(model.fc)"
      ],
      "metadata": {
        "colab": {
          "base_uri": "https://localhost:8080/"
        },
        "id": "nbYaTEbg5f-4",
        "outputId": "855b9fd5-9b3e-46da-baef-f3f0d59a31d9"
      },
      "execution_count": 14,
      "outputs": [
        {
          "output_type": "stream",
          "name": "stdout",
          "text": [
            "Linear(in_features=2048, out_features=1000, bias=True)\n"
          ]
        }
      ]
    },
    {
      "cell_type": "code",
      "source": [
        "for param in model.parameters():\n",
        "    param.requires_grad = False\n",
        "\n",
        "model.fc = nn.Linear(in_features=2048, out_features=50)\n",
        "for param in model.fc.parameters():\n",
        "    param.requires_grad = True\n",
        "print(model.fc)    "
      ],
      "metadata": {
        "colab": {
          "base_uri": "https://localhost:8080/"
        },
        "id": "xQ6gGX5WCwnO",
        "outputId": "c25b272e-6264-462a-a343-2520cc090b28"
      },
      "execution_count": 15,
      "outputs": [
        {
          "output_type": "stream",
          "name": "stdout",
          "text": [
            "Linear(in_features=2048, out_features=50, bias=True)\n"
          ]
        }
      ]
    },
    {
      "cell_type": "code",
      "source": [
        "import matplotlib.pyplot as plt\n",
        "from IPython import display\n",
        "\n",
        "device = 'cuda' if torch.cuda.is_available() else 'cpu'\n",
        "model = model.to(device)\n",
        "opt = torch.optim.Adam(model.parameters(), lr=1e-4)\n",
        "loss_func = nn.CrossEntropyLoss()\n",
        "\n",
        "BATCH_SIZE = 16\n",
        "# Your experiments, training and validation loops here\n",
        "train_loss = []\n",
        "val_loss = []\n",
        "accuracy_scores = []\n",
        "total = 0\n",
        "correct = 0\n",
        "for i in range(1, 6):\n",
        "    model.train()\n",
        "    running_loss = 0.0\n",
        "    for j, batch in enumerate(train_loader):\n",
        "        data, target = batch  \n",
        "        data, target = data.to(device), target.to(device)\n",
        "        opt.zero_grad()\n",
        "        output = model(data)\n",
        "        predictions = output.argmax(dim=1, keepdim=True).squeeze()\n",
        "        loss = loss_func(output, target)\n",
        "        \n",
        "        loss.backward()\n",
        "        opt.step()\n",
        "        running_loss += loss.item()\n",
        "\n",
        "    train_loss.append(running_loss / len(train_loader))\n",
        "    model.eval()\n",
        "    cur_loss = 0.0\n",
        "    correct = 0\n",
        "    total = 0\n",
        "    for data in val_loader:\n",
        "        images, labels = data\n",
        "        images, labels = images.to(device), labels.to(device)\n",
        "        outputs = model(images)\n",
        "        _, predictions = torch.max(outputs.data, dim=1)\n",
        "        cur_loss += loss_func(outputs, labels)\n",
        "        total += labels.size(0)\n",
        "        correct += (predictions == labels).sum().item()\n",
        "    accuracy = correct / total\n",
        "    accuracy_scores.append(accuracy)\n",
        "        \n",
        "    val_loss.append(cur_loss / len(val_loader))\n",
        "    # Visualize\n",
        "    display.clear_output(wait=True)\n",
        "    plt.figure(figsize=(8, 6))\n",
        "        \n",
        "    plt.title(\"Training loss and validation loss\")\n",
        "    plt.xlabel(\"epoch\")\n",
        "    plt.plot(train_loss, 'b', label='train_loss')\n",
        "    plt.plot(val_loss, 'r', label='val_loss')\n",
        "    plt.plot(accuracy_scores, color = 'green', label = 'accuracy_score')\n",
        "    plt.legend()\n",
        "    plt.show()\n",
        "    \n",
        "    print('Current train loss: %f' % (running_loss / len(train_loader)))   \n",
        "    print('Current val loss: %f' % (cur_loss / len(val_loader)))\n",
        "    print('Current accuracy: %f' % accuracy)"
      ],
      "metadata": {
        "colab": {
          "base_uri": "https://localhost:8080/",
          "height": 456
        },
        "id": "K2AnpZkeL-3a",
        "outputId": "b186c01c-2ed9-4264-d752-0c0dd8fb67fb"
      },
      "execution_count": 16,
      "outputs": [
        {
          "output_type": "display_data",
          "data": {
            "image/png": "[encoded data removed]",
            "text/plain": [
              "<Figure size 576x432 with 1 Axes>"
            ]
          },
          "metadata": {
            "needs_background": "light"
          }
        },
        {
          "output_type": "stream",
          "name": "stdout",
          "text": [
            "Current train loss: 0.647355\n",
            "Current val loss: 0.515144\n",
            "Current accuracy: 0.886490\n"
          ]
        }
      ]
    },
    {
      "cell_type": "code",
      "source": [
        "total = 0\n",
        "correct = 0\n",
        "model.eval()\n",
        "#model = model.to(device)\n",
        "with torch.no_grad():\n",
        "    for data in val_loader:\n",
        "        images, labels = data\n",
        "        images, labels = images.to(device), labels.to(device)\n",
        "        outputs = model(images)\n",
        "        _, predictions = torch.max(outputs.data, dim=1)\n",
        "        total += labels.size(0)\n",
        "        correct += (predictions == labels).sum().item()\n",
        "\n",
        "print('Accuracy == {} %'.format(100 * correct / total))"
      ],
      "metadata": {
        "colab": {
          "base_uri": "https://localhost:8080/"
        },
        "id": "KiKETfqRT5bN",
        "outputId": "ca6b0406-1f36-4785-9bd5-7e511b2adbfe"
      },
      "execution_count": 17,
      "outputs": [
        {
          "output_type": "stream",
          "name": "stderr",
          "text": [
            "/usr/local/lib/python3.7/dist-packages/torch/utils/data/dataloader.py:481: UserWarning: This DataLoader will create 4 worker processes in total. Our suggested max number of worker in current system is 2, which is smaller than what this DataLoader is going to create. Please be aware that excessive worker creation might get DataLoader running slow or even freeze, lower the worker number to avoid potential slowness/freeze if necessary.\n",
            "  cpuset_checked))\n"
          ]
        },
        {
          "output_type": "stream",
          "name": "stdout",
          "text": [
            "Accuracy == 88.44011142061281 %\n"
          ]
        }
      ]
    },
    {
      "cell_type": "code",
      "source": [
        "print(len(train_loader))"
      ],
      "metadata": {
        "colab": {
          "base_uri": "https://localhost:8080/"
        },
        "id": "fEwN2fnilt5p",
        "outputId": "d3f79f65-c439-49c9-8bd1-7bb57cfd0f80"
      },
      "execution_count": 32,
      "outputs": [
        {
          "output_type": "stream",
          "name": "stdout",
          "text": [
            "359\n"
          ]
        }
      ]
    },
    {
      "cell_type": "code",
      "source": [
        "from PIL import Image\n",
        "\n",
        "test_data = list()\n",
        "test_data_transforms = transforms.Compose(\n",
        "    [transforms.ToTensor(),\n",
        "     transforms.Normalize(image_mean, image_std),\n",
        "     transforms.Resize((224, 224))])\n",
        "\n",
        "path = '/content/drive/My Drive/data/test/'\n",
        "for i in range(1503):\n",
        "    image_path = path + str(i) + '.jpeg'\n",
        "    image_name = str(i) + '.jpeg'\n",
        "    image = Image.open(image_path)\n",
        "    image = test_data_transforms(image)\n",
        "    test_data.append(image)\n",
        "\n",
        "test_loader = torch.utils.data.DataLoader(test_data, batch_size=BATCH_SIZE, num_workers=4)    "
      ],
      "metadata": {
        "colab": {
          "base_uri": "https://localhost:8080/"
        },
        "id": "MvIMLnsfSeDK",
        "outputId": "0d328382-a915-4d53-c15a-614799083cba"
      },
      "execution_count": 33,
      "outputs": [
        {
          "output_type": "stream",
          "name": "stderr",
          "text": [
            "/usr/local/lib/python3.7/dist-packages/torch/utils/data/dataloader.py:481: UserWarning: This DataLoader will create 4 worker processes in total. Our suggested max number of worker in current system is 2, which is smaller than what this DataLoader is going to create. Please be aware that excessive worker creation might get DataLoader running slow or even freeze, lower the worker number to avoid potential slowness/freeze if necessary.\n",
            "  cpuset_checked))\n"
          ]
        }
      ]
    },
    {
      "cell_type": "code",
      "source": [
        "data_to_save = {'file_name' : []}\n",
        "file_names = [str(i) + '.jpeg' for i in range(1503)]\n",
        "data_to_save['file_name'] = file_names"
      ],
      "metadata": {
        "id": "KhbXsRot6-Sk"
      },
      "execution_count": 34,
      "outputs": []
    },
    {
      "cell_type": "code",
      "source": [
        "import pandas as pd\n",
        "\n",
        "model.eval()\n",
        "data_to_save['predicted_class'] = []\n",
        "with torch.no_grad():\n",
        "    for data in test_loader:\n",
        "        images = data.to(device)\n",
        "        outputs = model(images)\n",
        "        _, predictions = torch.max(outputs.data, dim=1)\n",
        "        data_to_save['predicted_class'].extend(predictions.tolist())"
      ],
      "metadata": {
        "colab": {
          "base_uri": "https://localhost:8080/"
        },
        "id": "z6cDcGYHXo1l",
        "outputId": "30303118-e3f2-44c3-ad40-e9961ad4ce6c"
      },
      "execution_count": 35,
      "outputs": [
        {
          "output_type": "stream",
          "name": "stderr",
          "text": [
            "/usr/local/lib/python3.7/dist-packages/torch/utils/data/dataloader.py:481: UserWarning: This DataLoader will create 4 worker processes in total. Our suggested max number of worker in current system is 2, which is smaller than what this DataLoader is going to create. Please be aware that excessive worker creation might get DataLoader running slow or even freeze, lower the worker number to avoid potential slowness/freeze if necessary.\n",
            "  cpuset_checked))\n"
          ]
        }
      ]
    },
    {
      "cell_type": "code",
      "source": [
        "idx_to_class = dict(list(zip(list(class_to_idx.values()), list(map(int, list(class_to_idx.keys()))))))\n",
        "idx_to_class"
      ],
      "metadata": {
        "colab": {
          "base_uri": "https://localhost:8080/"
        },
        "id": "n0TvREA2gjiQ",
        "outputId": "c0f136da-81e8-43c1-fb12-1579c7e97379"
      },
      "execution_count": 36,
      "outputs": [
        {
          "output_type": "execute_result",
          "data": {
            "text/plain": [
              "{0: 0,\n",
              " 1: 1,\n",
              " 2: 10,\n",
              " 3: 11,\n",
              " 4: 12,\n",
              " 5: 13,\n",
              " 6: 14,\n",
              " 7: 15,\n",
              " 8: 16,\n",
              " 9: 17,\n",
              " 10: 18,\n",
              " 11: 19,\n",
              " 12: 2,\n",
              " 13: 20,\n",
              " 14: 21,\n",
              " 15: 22,\n",
              " 16: 23,\n",
              " 17: 24,\n",
              " 18: 25,\n",
              " 19: 26,\n",
              " 20: 27,\n",
              " 21: 28,\n",
              " 22: 29,\n",
              " 23: 3,\n",
              " 24: 30,\n",
              " 25: 31,\n",
              " 26: 32,\n",
              " 27: 33,\n",
              " 28: 34,\n",
              " 29: 35,\n",
              " 30: 36,\n",
              " 31: 37,\n",
              " 32: 38,\n",
              " 33: 39,\n",
              " 34: 4,\n",
              " 35: 40,\n",
              " 36: 41,\n",
              " 37: 42,\n",
              " 38: 43,\n",
              " 39: 44,\n",
              " 40: 45,\n",
              " 41: 46,\n",
              " 42: 47,\n",
              " 43: 48,\n",
              " 44: 49,\n",
              " 45: 5,\n",
              " 46: 6,\n",
              " 47: 7,\n",
              " 48: 8,\n",
              " 49: 9}"
            ]
          },
          "metadata": {},
          "execution_count": 36
        }
      ]
    },
    {
      "cell_type": "code",
      "source": [
        "for i in range(len(data_to_save['predicted_class'])):\n",
        "  data_to_save['predicted_class'][i] = idx_to_class[data_to_save['predicted_class'][i]]\n",
        "print(data_to_save)  "
      ],
      "metadata": {
        "colab": {
          "base_uri": "https://localhost:8080/"
        },
        "id": "pBDWtRXOef_q",
        "outputId": "221afd73-119d-4780-b15f-4a6dda827d10"
      },
      "execution_count": 37,
      "outputs": [
        {
          "output_type": "stream",
          "name": "stdout",
          "text": [
            "{'file_name': ['0.jpeg', '1.jpeg', '2.jpeg', '3.jpeg', '4.jpeg', '5.jpeg', '6.jpeg', '7.jpeg', '8.jpeg', '9.jpeg', '10.jpeg', '11.jpeg', '12.jpeg', '13.jpeg', '14.jpeg', '15.jpeg', '16.jpeg', '17.jpeg', '18.jpeg', '19.jpeg', '20.jpeg', '21.jpeg', '22.jpeg', '23.jpeg', '24.jpeg', '25.jpeg', '26.jpeg', '27.jpeg', '28.jpeg', '29.jpeg', '30.jpeg', '31.jpeg', '32.jpeg', '33.jpeg', '34.jpeg', '35.jpeg', '36.jpeg', '37.jpeg', '38.jpeg', '39.jpeg', '40.jpeg', '41.jpeg', '42.jpeg', '43.jpeg', '44.jpeg', '45.jpeg', '46.jpeg', '47.jpeg', '48.jpeg', '49.jpeg', '50.jpeg', '51.jpeg', '52.jpeg', '53.jpeg', '54.jpeg', '55.jpeg', '56.jpeg', '57.jpeg', '58.jpeg', '59.jpeg', '60.jpeg', '61.jpeg', '62.jpeg', '63.jpeg', '64.jpeg', '65.jpeg', '66.jpeg', '67.jpeg', '68.jpeg', '69.jpeg', '70.jpeg', '71.jpeg', '72.jpeg', '73.jpeg', '74.jpeg', '75.jpeg', '76.jpeg', '77.jpeg', '78.jpeg', '79.jpeg', '80.jpeg', '81.jpeg', '82.jpeg', '83.jpeg', '84.jpeg', '85.jpeg', '86.jpeg', '87.jpeg', '88.jpeg', '89.jpeg', '90.jpeg', '91.jpeg', '92.jpeg', '93.jpeg', '94.jpeg', '95.jpeg', '96.jpeg', '97.jpeg', '98.jpeg', '99.jpeg', '100.jpeg', '101.jpeg', '102.jpeg', '103.jpeg', '104.jpeg', '105.jpeg', '106.jpeg', '107.jpeg', '108.jpeg', '109.jpeg', '110.jpeg', '111.jpeg', '112.jpeg', '113.jpeg', '114.jpeg', '115.jpeg', '116.jpeg', '117.jpeg', '118.jpeg', '119.jpeg', '120.jpeg', '121.jpeg', '122.jpeg', '123.jpeg', '124.jpeg', '125.jpeg', '126.jpeg', '127.jpeg', '128.jpeg', '129.jpeg', '130.jpeg', '131.jpeg', '132.jpeg', '133.jpeg', '134.jpeg', '135.jpeg', '136.jpeg', '137.jpeg', '138.jpeg', '139.jpeg', '140.jpeg', '141.jpeg', '142.jpeg', '143.jpeg', '144.jpeg', '145.jpeg', '146.jpeg', '147.jpeg', '148.jpeg', '149.jpeg', '150.jpeg', '151.jpeg', '152.jpeg', '153.jpeg', '154.jpeg', '155.jpeg', '156.jpeg', '157.jpeg', '158.jpeg', '159.jpeg', '160.jpeg', '161.jpeg', '162.jpeg', '163.jpeg', '164.jpeg', '165.jpeg', '166.jpeg', '167.jpeg', '168.jpeg', '169.jpeg', '170.jpeg', '171.jpeg', '172.jpeg', '173.jpeg', '174.jpeg', '175.jpeg', '176.jpeg', '177.jpeg', '178.jpeg', '179.jpeg', '180.jpeg', '181.jpeg', '182.jpeg', '183.jpeg', '184.jpeg', '185.jpeg', '186.jpeg', '187.jpeg', '188.jpeg', '189.jpeg', '190.jpeg', '191.jpeg', '192.jpeg', '193.jpeg', '194.jpeg', '195.jpeg', '196.jpeg', '197.jpeg', '198.jpeg', '199.jpeg', '200.jpeg', '201.jpeg', '202.jpeg', '203.jpeg', '204.jpeg', '205.jpeg', '206.jpeg', '207.jpeg', '208.jpeg', '209.jpeg', '210.jpeg', '211.jpeg', '212.jpeg', '213.jpeg', '214.jpeg', '215.jpeg', '216.jpeg', '217.jpeg', '218.jpeg', '219.jpeg', '220.jpeg', '221.jpeg', '222.jpeg', '223.jpeg', '224.jpeg', '225.jpeg', '226.jpeg', '227.jpeg', '228.jpeg', '229.jpeg', '230.jpeg', '231.jpeg', '232.jpeg', '233.jpeg', '234.jpeg', '235.jpeg', '236.jpeg', '237.jpeg', '238.jpeg', '239.jpeg', '240.jpeg', '241.jpeg', '242.jpeg', '243.jpeg', '244.jpeg', '245.jpeg', '246.jpeg', '247.jpeg', '248.jpeg', '249.jpeg', '250.jpeg', '251.jpeg', '252.jpeg', '253.jpeg', '254.jpeg', '255.jpeg', '256.jpeg', '257.jpeg', '258.jpeg', '259.jpeg', '260.jpeg', '261.jpeg', '262.jpeg', '263.jpeg', '264.jpeg', '265.jpeg', '266.jpeg', '267.jpeg', '268.jpeg', '269.jpeg', '270.jpeg', '271.jpeg', '272.jpeg', '273.jpeg', '274.jpeg', '275.jpeg', '276.jpeg', '277.jpeg', '278.jpeg', '279.jpeg', '280.jpeg', '281.jpeg', '282.jpeg', '283.jpeg', '284.jpeg', '285.jpeg', '286.jpeg', '287.jpeg', '288.jpeg', '289.jpeg', '290.jpeg', '291.jpeg', '292.jpeg', '293.jpeg', '294.jpeg', '295.jpeg', '296.jpeg', '297.jpeg', '298.jpeg', '299.jpeg', '300.jpeg', '301.jpeg', '302.jpeg', '303.jpeg', '304.jpeg', '305.jpeg', '306.jpeg', '307.jpeg', '308.jpeg', '309.jpeg', '310.jpeg', '311.jpeg', '312.jpeg', '313.jpeg', '314.jpeg', '315.jpeg', '316.jpeg', '317.jpeg', '318.jpeg', '319.jpeg', '320.jpeg', '321.jpeg', '322.jpeg', '323.jpeg', '324.jpeg', '325.jpeg', '326.jpeg', '327.jpeg', '328.jpeg', '329.jpeg', '330.jpeg', '331.jpeg', '332.jpeg', '333.jpeg', '334.jpeg', '335.jpeg', '336.jpeg', '337.jpeg', '338.jpeg', '339.jpeg', '340.jpeg', '341.jpeg', '342.jpeg', '343.jpeg', '344.jpeg', '345.jpeg', '346.jpeg', '347.jpeg', '348.jpeg', '349.jpeg', '350.jpeg', '351.jpeg', '352.jpeg', '353.jpeg', '354.jpeg', '355.jpeg', '356.jpeg', '357.jpeg', '358.jpeg', '359.jpeg', '360.jpeg', '361.jpeg', '362.jpeg', '363.jpeg', '364.jpeg', '365.jpeg', '366.jpeg', '367.jpeg', '368.jpeg', '369.jpeg', '370.jpeg', '371.jpeg', '372.jpeg', '373.jpeg', '374.jpeg', '375.jpeg', '376.jpeg', '377.jpeg', '378.jpeg', '379.jpeg', '380.jpeg', '381.jpeg', '382.jpeg', '383.jpeg', '384.jpeg', '385.jpeg', '386.jpeg', '387.jpeg', '388.jpeg', '389.jpeg', '390.jpeg', '391.jpeg', '392.jpeg', '393.jpeg', '394.jpeg', '395.jpeg', '396.jpeg', '397.jpeg', '398.jpeg', '399.jpeg', '400.jpeg', '401.jpeg', '402.jpeg', '403.jpeg', '404.jpeg', '405.jpeg', '406.jpeg', '407.jpeg', '408.jpeg', '409.jpeg', '410.jpeg', '411.jpeg', '412.jpeg', '413.jpeg', '414.jpeg', '415.jpeg', '416.jpeg', '417.jpeg', '418.jpeg', '419.jpeg', '420.jpeg', '421.jpeg', '422.jpeg', '423.jpeg', '424.jpeg', '425.jpeg', '426.jpeg', '427.jpeg', '428.jpeg', '429.jpeg', '430.jpeg', '431.jpeg', '432.jpeg', '433.jpeg', '434.jpeg', '435.jpeg', '436.jpeg', '437.jpeg', '438.jpeg', '439.jpeg', '440.jpeg', '441.jpeg', '442.jpeg', '443.jpeg', '444.jpeg', '445.jpeg', '446.jpeg', '447.jpeg', '448.jpeg', '449.jpeg', '450.jpeg', '451.jpeg', '452.jpeg', '453.jpeg', '454.jpeg', '455.jpeg', '456.jpeg', '457.jpeg', '458.jpeg', '459.jpeg', '460.jpeg', '461.jpeg', '462.jpeg', '463.jpeg', '464.jpeg', '465.jpeg', '466.jpeg', '467.jpeg', '468.jpeg', '469.jpeg', '470.jpeg', '471.jpeg', '472.jpeg', '473.jpeg', '474.jpeg', '475.jpeg', '476.jpeg', '477.jpeg', '478.jpeg', '479.jpeg', '480.jpeg', '481.jpeg', '482.jpeg', '483.jpeg', '484.jpeg', '485.jpeg', '486.jpeg', '487.jpeg', '488.jpeg', '489.jpeg', '490.jpeg', '491.jpeg', '492.jpeg', '493.jpeg', '494.jpeg', '495.jpeg', '496.jpeg', '497.jpeg', '498.jpeg', '499.jpeg', '500.jpeg', '501.jpeg', '502.jpeg', '503.jpeg', '504.jpeg', '505.jpeg', '506.jpeg', '507.jpeg', '508.jpeg', '509.jpeg', '510.jpeg', '511.jpeg', '512.jpeg', '513.jpeg', '514.jpeg', '515.jpeg', '516.jpeg', '517.jpeg', '518.jpeg', '519.jpeg', '520.jpeg', '521.jpeg', '522.jpeg', '523.jpeg', '524.jpeg', '525.jpeg', '526.jpeg', '527.jpeg', '528.jpeg', '529.jpeg', '530.jpeg', '531.jpeg', '532.jpeg', '533.jpeg', '534.jpeg', '535.jpeg', '536.jpeg', '537.jpeg', '538.jpeg', '539.jpeg', '540.jpeg', '541.jpeg', '542.jpeg', '543.jpeg', '544.jpeg', '545.jpeg', '546.jpeg', '547.jpeg', '548.jpeg', '549.jpeg', '550.jpeg', '551.jpeg', '552.jpeg', '553.jpeg', '554.jpeg', '555.jpeg', '556.jpeg', '557.jpeg', '558.jpeg', '559.jpeg', '560.jpeg', '561.jpeg', '562.jpeg', '563.jpeg', '564.jpeg', '565.jpeg', '566.jpeg', '567.jpeg', '568.jpeg', '569.jpeg', '570.jpeg', '571.jpeg', '572.jpeg', '573.jpeg', '574.jpeg', '575.jpeg', '576.jpeg', '577.jpeg', '578.jpeg', '579.jpeg', '580.jpeg', '581.jpeg', '582.jpeg', '583.jpeg', '584.jpeg', '585.jpeg', '586.jpeg', '587.jpeg', '588.jpeg', '589.jpeg', '590.jpeg', '591.jpeg', '592.jpeg', '593.jpeg', '594.jpeg', '595.jpeg', '596.jpeg', '597.jpeg', '598.jpeg', '599.jpeg', '600.jpeg', '601.jpeg', '602.jpeg', '603.jpeg', '604.jpeg', '605.jpeg', '606.jpeg', '607.jpeg', '608.jpeg', '609.jpeg', '610.jpeg', '611.jpeg', '612.jpeg', '613.jpeg', '614.jpeg', '615.jpeg', '616.jpeg', '617.jpeg', '618.jpeg', '619.jpeg', '620.jpeg', '621.jpeg', '622.jpeg', '623.jpeg', '624.jpeg', '625.jpeg', '626.jpeg', '627.jpeg', '628.jpeg', '629.jpeg', '630.jpeg', '631.jpeg', '632.jpeg', '633.jpeg', '634.jpeg', '635.jpeg', '636.jpeg', '637.jpeg', '638.jpeg', '639.jpeg', '640.jpeg', '641.jpeg', '642.jpeg', '643.jpeg', '644.jpeg', '645.jpeg', '646.jpeg', '647.jpeg', '648.jpeg', '649.jpeg', '650.jpeg', '651.jpeg', '652.jpeg', '653.jpeg', '654.jpeg', '655.jpeg', '656.jpeg', '657.jpeg', '658.jpeg', '659.jpeg', '660.jpeg', '661.jpeg', '662.jpeg', '663.jpeg', '664.jpeg', '665.jpeg', '666.jpeg', '667.jpeg', '668.jpeg', '669.jpeg', '670.jpeg', '671.jpeg', '672.jpeg', '673.jpeg', '674.jpeg', '675.jpeg', '676.jpeg', '677.jpeg', '678.jpeg', '679.jpeg', '680.jpeg', '681.jpeg', '682.jpeg', '683.jpeg', '684.jpeg', '685.jpeg', '686.jpeg', '687.jpeg', '688.jpeg', '689.jpeg', '690.jpeg', '691.jpeg', '692.jpeg', '693.jpeg', '694.jpeg', '695.jpeg', '696.jpeg', '697.jpeg', '698.jpeg', '699.jpeg', '700.jpeg', '701.jpeg', '702.jpeg', '703.jpeg', '704.jpeg', '705.jpeg', '706.jpeg', '707.jpeg', '708.jpeg', '709.jpeg', '710.jpeg', '711.jpeg', '712.jpeg', '713.jpeg', '714.jpeg', '715.jpeg', '716.jpeg', '717.jpeg', '718.jpeg', '719.jpeg', '720.jpeg', '721.jpeg', '722.jpeg', '723.jpeg', '724.jpeg', '725.jpeg', '726.jpeg', '727.jpeg', '728.jpeg', '729.jpeg', '730.jpeg', '731.jpeg', '732.jpeg', '733.jpeg', '734.jpeg', '735.jpeg', '736.jpeg', '737.jpeg', '738.jpeg', '739.jpeg', '740.jpeg', '741.jpeg', '742.jpeg', '743.jpeg', '744.jpeg', '745.jpeg', '746.jpeg', '747.jpeg', '748.jpeg', '749.jpeg', '750.jpeg', '751.jpeg', '752.jpeg', '753.jpeg', '754.jpeg', '755.jpeg', '756.jpeg', '757.jpeg', '758.jpeg', '759.jpeg', '760.jpeg', '761.jpeg', '762.jpeg', '763.jpeg', '764.jpeg', '765.jpeg', '766.jpeg', '767.jpeg', '768.jpeg', '769.jpeg', '770.jpeg', '771.jpeg', '772.jpeg', '773.jpeg', '774.jpeg', '775.jpeg', '776.jpeg', '777.jpeg', '778.jpeg', '779.jpeg', '780.jpeg', '781.jpeg', '782.jpeg', '783.jpeg', '784.jpeg', '785.jpeg', '786.jpeg', '787.jpeg', '788.jpeg', '789.jpeg', '790.jpeg', '791.jpeg', '792.jpeg', '793.jpeg', '794.jpeg', '795.jpeg', '796.jpeg', '797.jpeg', '798.jpeg', '799.jpeg', '800.jpeg', '801.jpeg', '802.jpeg', '803.jpeg', '804.jpeg', '805.jpeg', '806.jpeg', '807.jpeg', '808.jpeg', '809.jpeg', '810.jpeg', '811.jpeg', '812.jpeg', '813.jpeg', '814.jpeg', '815.jpeg', '816.jpeg', '817.jpeg', '818.jpeg', '819.jpeg', '820.jpeg', '821.jpeg', '822.jpeg', '823.jpeg', '824.jpeg', '825.jpeg', '826.jpeg', '827.jpeg', '828.jpeg', '829.jpeg', '830.jpeg', '831.jpeg', '832.jpeg', '833.jpeg', '834.jpeg', '835.jpeg', '836.jpeg', '837.jpeg', '838.jpeg', '839.jpeg', '840.jpeg', '841.jpeg', '842.jpeg', '843.jpeg', '844.jpeg', '845.jpeg', '846.jpeg', '847.jpeg', '848.jpeg', '849.jpeg', '850.jpeg', '851.jpeg', '852.jpeg', '853.jpeg', '854.jpeg', '855.jpeg', '856.jpeg', '857.jpeg', '858.jpeg', '859.jpeg', '860.jpeg', '861.jpeg', '862.jpeg', '863.jpeg', '864.jpeg', '865.jpeg', '866.jpeg', '867.jpeg', '868.jpeg', '869.jpeg', '870.jpeg', '871.jpeg', '872.jpeg', '873.jpeg', '874.jpeg', '875.jpeg', '876.jpeg', '877.jpeg', '878.jpeg', '879.jpeg', '880.jpeg', '881.jpeg', '882.jpeg', '883.jpeg', '884.jpeg', '885.jpeg', '886.jpeg', '887.jpeg', '888.jpeg', '889.jpeg', '890.jpeg', '891.jpeg', '892.jpeg', '893.jpeg', '894.jpeg', '895.jpeg', '896.jpeg', '897.jpeg', '898.jpeg', '899.jpeg', '900.jpeg', '901.jpeg', '902.jpeg', '903.jpeg', '904.jpeg', '905.jpeg', '906.jpeg', '907.jpeg', '908.jpeg', '909.jpeg', '910.jpeg', '911.jpeg', '912.jpeg', '913.jpeg', '914.jpeg', '915.jpeg', '916.jpeg', '917.jpeg', '918.jpeg', '919.jpeg', '920.jpeg', '921.jpeg', '922.jpeg', '923.jpeg', '924.jpeg', '925.jpeg', '926.jpeg', '927.jpeg', '928.jpeg', '929.jpeg', '930.jpeg', '931.jpeg', '932.jpeg', '933.jpeg', '934.jpeg', '935.jpeg', '936.jpeg', '937.jpeg', '938.jpeg', '939.jpeg', '940.jpeg', '941.jpeg', '942.jpeg', '943.jpeg', '944.jpeg', '945.jpeg', '946.jpeg', '947.jpeg', '948.jpeg', '949.jpeg', '950.jpeg', '951.jpeg', '952.jpeg', '953.jpeg', '954.jpeg', '955.jpeg', '956.jpeg', '957.jpeg', '958.jpeg', '959.jpeg', '960.jpeg', '961.jpeg', '962.jpeg', '963.jpeg', '964.jpeg', '965.jpeg', '966.jpeg', '967.jpeg', '968.jpeg', '969.jpeg', '970.jpeg', '971.jpeg', '972.jpeg', '973.jpeg', '974.jpeg', '975.jpeg', '976.jpeg', '977.jpeg', '978.jpeg', '979.jpeg', '980.jpeg', '981.jpeg', '982.jpeg', '983.jpeg', '984.jpeg', '985.jpeg', '986.jpeg', '987.jpeg', '988.jpeg', '989.jpeg', '990.jpeg', '991.jpeg', '992.jpeg', '993.jpeg', '994.jpeg', '995.jpeg', '996.jpeg', '997.jpeg', '998.jpeg', '999.jpeg', '1000.jpeg', '1001.jpeg', '1002.jpeg', '1003.jpeg', '1004.jpeg', '1005.jpeg', '1006.jpeg', '1007.jpeg', '1008.jpeg', '1009.jpeg', '1010.jpeg', '1011.jpeg', '1012.jpeg', '1013.jpeg', '1014.jpeg', '1015.jpeg', '1016.jpeg', '1017.jpeg', '1018.jpeg', '1019.jpeg', '1020.jpeg', '1021.jpeg', '1022.jpeg', '1023.jpeg', '1024.jpeg', '1025.jpeg', '1026.jpeg', '1027.jpeg', '1028.jpeg', '1029.jpeg', '1030.jpeg', '1031.jpeg', '1032.jpeg', '1033.jpeg', '1034.jpeg', '1035.jpeg', '1036.jpeg', '1037.jpeg', '1038.jpeg', '1039.jpeg', '1040.jpeg', '1041.jpeg', '1042.jpeg', '1043.jpeg', '1044.jpeg', '1045.jpeg', '1046.jpeg', '1047.jpeg', '1048.jpeg', '1049.jpeg', '1050.jpeg', '1051.jpeg', '1052.jpeg', '1053.jpeg', '1054.jpeg', '1055.jpeg', '1056.jpeg', '1057.jpeg', '1058.jpeg', '1059.jpeg', '1060.jpeg', '1061.jpeg', '1062.jpeg', '1063.jpeg', '1064.jpeg', '1065.jpeg', '1066.jpeg', '1067.jpeg', '1068.jpeg', '1069.jpeg', '1070.jpeg', '1071.jpeg', '1072.jpeg', '1073.jpeg', '1074.jpeg', '1075.jpeg', '1076.jpeg', '1077.jpeg', '1078.jpeg', '1079.jpeg', '1080.jpeg', '1081.jpeg', '1082.jpeg', '1083.jpeg', '1084.jpeg', '1085.jpeg', '1086.jpeg', '1087.jpeg', '1088.jpeg', '1089.jpeg', '1090.jpeg', '1091.jpeg', '1092.jpeg', '1093.jpeg', '1094.jpeg', '1095.jpeg', '1096.jpeg', '1097.jpeg', '1098.jpeg', '1099.jpeg', '1100.jpeg', '1101.jpeg', '1102.jpeg', '1103.jpeg', '1104.jpeg', '1105.jpeg', '1106.jpeg', '1107.jpeg', '1108.jpeg', '1109.jpeg', '1110.jpeg', '1111.jpeg', '1112.jpeg', '1113.jpeg', '1114.jpeg', '1115.jpeg', '1116.jpeg', '1117.jpeg', '1118.jpeg', '1119.jpeg', '1120.jpeg', '1121.jpeg', '1122.jpeg', '1123.jpeg', '1124.jpeg', '1125.jpeg', '1126.jpeg', '1127.jpeg', '1128.jpeg', '1129.jpeg', '1130.jpeg', '1131.jpeg', '1132.jpeg', '1133.jpeg', '1134.jpeg', '1135.jpeg', '1136.jpeg', '1137.jpeg', '1138.jpeg', '1139.jpeg', '1140.jpeg', '1141.jpeg', '1142.jpeg', '1143.jpeg', '1144.jpeg', '1145.jpeg', '1146.jpeg', '1147.jpeg', '1148.jpeg', '1149.jpeg', '1150.jpeg', '1151.jpeg', '1152.jpeg', '1153.jpeg', '1154.jpeg', '1155.jpeg', '1156.jpeg', '1157.jpeg', '1158.jpeg', '1159.jpeg', '1160.jpeg', '1161.jpeg', '1162.jpeg', '1163.jpeg', '1164.jpeg', '1165.jpeg', '1166.jpeg', '1167.jpeg', '1168.jpeg', '1169.jpeg', '1170.jpeg', '1171.jpeg', '1172.jpeg', '1173.jpeg', '1174.jpeg', '1175.jpeg', '1176.jpeg', '1177.jpeg', '1178.jpeg', '1179.jpeg', '1180.jpeg', '1181.jpeg', '1182.jpeg', '1183.jpeg', '1184.jpeg', '1185.jpeg', '1186.jpeg', '1187.jpeg', '1188.jpeg', '1189.jpeg', '1190.jpeg', '1191.jpeg', '1192.jpeg', '1193.jpeg', '1194.jpeg', '1195.jpeg', '1196.jpeg', '1197.jpeg', '1198.jpeg', '1199.jpeg', '1200.jpeg', '1201.jpeg', '1202.jpeg', '1203.jpeg', '1204.jpeg', '1205.jpeg', '1206.jpeg', '1207.jpeg', '1208.jpeg', '1209.jpeg', '1210.jpeg', '1211.jpeg', '1212.jpeg', '1213.jpeg', '1214.jpeg', '1215.jpeg', '1216.jpeg', '1217.jpeg', '1218.jpeg', '1219.jpeg', '1220.jpeg', '1221.jpeg', '1222.jpeg', '1223.jpeg', '1224.jpeg', '1225.jpeg', '1226.jpeg', '1227.jpeg', '1228.jpeg', '1229.jpeg', '1230.jpeg', '1231.jpeg', '1232.jpeg', '1233.jpeg', '1234.jpeg', '1235.jpeg', '1236.jpeg', '1237.jpeg', '1238.jpeg', '1239.jpeg', '1240.jpeg', '1241.jpeg', '1242.jpeg', '1243.jpeg', '1244.jpeg', '1245.jpeg', '1246.jpeg', '1247.jpeg', '1248.jpeg', '1249.jpeg', '1250.jpeg', '1251.jpeg', '1252.jpeg', '1253.jpeg', '1254.jpeg', '1255.jpeg', '1256.jpeg', '1257.jpeg', '1258.jpeg', '1259.jpeg', '1260.jpeg', '1261.jpeg', '1262.jpeg', '1263.jpeg', '1264.jpeg', '1265.jpeg', '1266.jpeg', '1267.jpeg', '1268.jpeg', '1269.jpeg', '1270.jpeg', '1271.jpeg', '1272.jpeg', '1273.jpeg', '1274.jpeg', '1275.jpeg', '1276.jpeg', '1277.jpeg', '1278.jpeg', '1279.jpeg', '1280.jpeg', '1281.jpeg', '1282.jpeg', '1283.jpeg', '1284.jpeg', '1285.jpeg', '1286.jpeg', '1287.jpeg', '1288.jpeg', '1289.jpeg', '1290.jpeg', '1291.jpeg', '1292.jpeg', '1293.jpeg', '1294.jpeg', '1295.jpeg', '1296.jpeg', '1297.jpeg', '1298.jpeg', '1299.jpeg', '1300.jpeg', '1301.jpeg', '1302.jpeg', '1303.jpeg', '1304.jpeg', '1305.jpeg', '1306.jpeg', '1307.jpeg', '1308.jpeg', '1309.jpeg', '1310.jpeg', '1311.jpeg', '1312.jpeg', '1313.jpeg', '1314.jpeg', '1315.jpeg', '1316.jpeg', '1317.jpeg', '1318.jpeg', '1319.jpeg', '1320.jpeg', '1321.jpeg', '1322.jpeg', '1323.jpeg', '1324.jpeg', '1325.jpeg', '1326.jpeg', '1327.jpeg', '1328.jpeg', '1329.jpeg', '1330.jpeg', '1331.jpeg', '1332.jpeg', '1333.jpeg', '1334.jpeg', '1335.jpeg', '1336.jpeg', '1337.jpeg', '1338.jpeg', '1339.jpeg', '1340.jpeg', '1341.jpeg', '1342.jpeg', '1343.jpeg', '1344.jpeg', '1345.jpeg', '1346.jpeg', '1347.jpeg', '1348.jpeg', '1349.jpeg', '1350.jpeg', '1351.jpeg', '1352.jpeg', '1353.jpeg', '1354.jpeg', '1355.jpeg', '1356.jpeg', '1357.jpeg', '1358.jpeg', '1359.jpeg', '1360.jpeg', '1361.jpeg', '1362.jpeg', '1363.jpeg', '1364.jpeg', '1365.jpeg', '1366.jpeg', '1367.jpeg', '1368.jpeg', '1369.jpeg', '1370.jpeg', '1371.jpeg', '1372.jpeg', '1373.jpeg', '1374.jpeg', '1375.jpeg', '1376.jpeg', '1377.jpeg', '1378.jpeg', '1379.jpeg', '1380.jpeg', '1381.jpeg', '1382.jpeg', '1383.jpeg', '1384.jpeg', '1385.jpeg', '1386.jpeg', '1387.jpeg', '1388.jpeg', '1389.jpeg', '1390.jpeg', '1391.jpeg', '1392.jpeg', '1393.jpeg', '1394.jpeg', '1395.jpeg', '1396.jpeg', '1397.jpeg', '1398.jpeg', '1399.jpeg', '1400.jpeg', '1401.jpeg', '1402.jpeg', '1403.jpeg', '1404.jpeg', '1405.jpeg', '1406.jpeg', '1407.jpeg', '1408.jpeg', '1409.jpeg', '1410.jpeg', '1411.jpeg', '1412.jpeg', '1413.jpeg', '1414.jpeg', '1415.jpeg', '1416.jpeg', '1417.jpeg', '1418.jpeg', '1419.jpeg', '1420.jpeg', '1421.jpeg', '1422.jpeg', '1423.jpeg', '1424.jpeg', '1425.jpeg', '1426.jpeg', '1427.jpeg', '1428.jpeg', '1429.jpeg', '1430.jpeg', '1431.jpeg', '1432.jpeg', '1433.jpeg', '1434.jpeg', '1435.jpeg', '1436.jpeg', '1437.jpeg', '1438.jpeg', '1439.jpeg', '1440.jpeg', '1441.jpeg', '1442.jpeg', '1443.jpeg', '1444.jpeg', '1445.jpeg', '1446.jpeg', '1447.jpeg', '1448.jpeg', '1449.jpeg', '1450.jpeg', '1451.jpeg', '1452.jpeg', '1453.jpeg', '1454.jpeg', '1455.jpeg', '1456.jpeg', '1457.jpeg', '1458.jpeg', '1459.jpeg', '1460.jpeg', '1461.jpeg', '1462.jpeg', '1463.jpeg', '1464.jpeg', '1465.jpeg', '1466.jpeg', '1467.jpeg', '1468.jpeg', '1469.jpeg', '1470.jpeg', '1471.jpeg', '1472.jpeg', '1473.jpeg', '1474.jpeg', '1475.jpeg', '1476.jpeg', '1477.jpeg', '1478.jpeg', '1479.jpeg', '1480.jpeg', '1481.jpeg', '1482.jpeg', '1483.jpeg', '1484.jpeg', '1485.jpeg', '1486.jpeg', '1487.jpeg', '1488.jpeg', '1489.jpeg', '1490.jpeg', '1491.jpeg', '1492.jpeg', '1493.jpeg', '1494.jpeg', '1495.jpeg', '1496.jpeg', '1497.jpeg', '1498.jpeg', '1499.jpeg', '1500.jpeg', '1501.jpeg', '1502.jpeg'], 'predicted_class': [42, 3, 14, 14, 39, 19, 0, 6, 49, 30, 39, 46, 26, 38, 38, 42, 13, 30, 17, 36, 8, 35, 39, 15, 1, 24, 8, 45, 24, 31, 14, 38, 13, 7, 15, 34, 20, 48, 47, 40, 13, 38, 34, 0, 22, 36, 26, 48, 16, 25, 5, 38, 23, 27, 14, 6, 11, 28, 44, 3, 33, 10, 9, 33, 13, 47, 40, 8, 17, 9, 10, 33, 44, 45, 18, 38, 46, 16, 30, 34, 44, 44, 35, 47, 33, 18, 30, 23, 3, 5, 18, 7, 29, 35, 49, 3, 27, 30, 39, 6, 18, 8, 38, 38, 28, 16, 39, 36, 41, 20, 26, 19, 3, 13, 8, 16, 2, 21, 39, 10, 46, 22, 10, 35, 41, 13, 14, 29, 42, 40, 20, 32, 46, 0, 27, 33, 23, 36, 47, 22, 46, 30, 0, 48, 18, 35, 34, 26, 17, 17, 12, 0, 36, 36, 40, 8, 47, 4, 40, 36, 26, 5, 39, 27, 35, 31, 46, 47, 10, 26, 49, 7, 11, 4, 38, 31, 35, 14, 18, 19, 48, 5, 3, 29, 35, 24, 9, 28, 23, 28, 24, 46, 16, 33, 7, 11, 2, 2, 10, 16, 20, 30, 7, 27, 28, 30, 45, 35, 35, 36, 7, 36, 20, 44, 2, 1, 32, 38, 15, 16, 15, 28, 18, 19, 31, 0, 10, 15, 16, 27, 10, 3, 40, 49, 48, 11, 8, 6, 24, 20, 3, 6, 6, 27, 2, 28, 31, 15, 33, 36, 42, 5, 11, 5, 11, 35, 46, 47, 8, 19, 12, 6, 4, 11, 6, 14, 46, 0, 3, 27, 34, 30, 22, 33, 1, 2, 13, 19, 38, 12, 20, 13, 26, 3, 47, 27, 1, 46, 14, 28, 11, 5, 11, 37, 19, 30, 12, 46, 22, 32, 18, 24, 27, 20, 32, 8, 37, 20, 39, 40, 24, 46, 13, 41, 26, 19, 14, 30, 12, 36, 13, 3, 38, 17, 36, 9, 26, 1, 29, 30, 24, 12, 20, 13, 15, 28, 21, 26, 14, 18, 44, 2, 27, 47, 16, 2, 35, 17, 41, 36, 22, 31, 49, 23, 6, 40, 47, 47, 47, 4, 38, 30, 41, 11, 18, 21, 21, 14, 38, 44, 21, 49, 16, 33, 27, 44, 15, 38, 21, 6, 11, 38, 47, 8, 41, 28, 43, 7, 20, 27, 24, 5, 14, 41, 4, 23, 30, 44, 26, 39, 18, 9, 32, 10, 30, 8, 28, 29, 3, 32, 2, 5, 9, 21, 23, 2, 33, 2, 19, 2, 39, 30, 40, 7, 14, 44, 14, 15, 29, 26, 14, 3, 49, 14, 4, 27, 21, 1, 20, 31, 31, 46, 4, 3, 6, 35, 19, 5, 4, 12, 48, 35, 40, 8, 14, 38, 4, 2, 34, 10, 17, 32, 8, 17, 10, 23, 10, 18, 0, 11, 4, 2, 2, 8, 45, 2, 48, 6, 19, 40, 18, 28, 31, 18, 19, 39, 16, 39, 26, 33, 8, 28, 36, 44, 34, 44, 8, 5, 6, 29, 49, 36, 32, 29, 25, 17, 9, 29, 28, 46, 19, 1, 36, 5, 38, 33, 36, 44, 10, 28, 5, 10, 6, 39, 34, 19, 39, 19, 35, 7, 20, 31, 30, 28, 36, 18, 44, 46, 38, 8, 15, 24, 1, 35, 23, 34, 46, 28, 30, 15, 39, 18, 2, 4, 10, 0, 6, 17, 4, 6, 48, 42, 33, 4, 26, 8, 11, 33, 46, 46, 33, 31, 31, 41, 2, 1, 2, 35, 30, 36, 36, 35, 40, 47, 33, 7, 6, 11, 33, 10, 26, 45, 39, 21, 8, 31, 17, 17, 17, 23, 23, 31, 12, 29, 23, 21, 1, 40, 35, 6, 34, 32, 20, 22, 29, 48, 41, 45, 46, 28, 26, 14, 49, 24, 45, 20, 38, 26, 28, 42, 48, 10, 1, 44, 35, 16, 19, 13, 40, 12, 13, 17, 42, 40, 40, 9, 14, 23, 9, 38, 13, 35, 17, 13, 7, 6, 11, 14, 5, 4, 36, 45, 35, 34, 21, 29, 25, 30, 25, 17, 39, 26, 23, 7, 0, 35, 44, 0, 49, 39, 32, 48, 17, 14, 34, 22, 33, 39, 16, 22, 30, 0, 8, 35, 31, 38, 45, 7, 19, 21, 3, 12, 41, 19, 20, 39, 25, 15, 38, 21, 5, 49, 17, 34, 11, 18, 11, 48, 29, 48, 19, 19, 5, 44, 5, 9, 26, 28, 35, 22, 16, 35, 0, 24, 21, 28, 5, 29, 39, 16, 13, 17, 16, 44, 10, 3, 44, 46, 21, 41, 13, 15, 17, 39, 0, 4, 16, 48, 7, 33, 32, 29, 38, 5, 49, 0, 28, 42, 5, 23, 12, 28, 33, 30, 21, 24, 19, 47, 40, 14, 3, 47, 42, 20, 39, 37, 38, 20, 1, 13, 38, 27, 4, 42, 40, 32, 34, 40, 3, 2, 46, 24, 18, 5, 32, 17, 16, 12, 12, 25, 22, 21, 6, 32, 23, 26, 5, 19, 39, 47, 28, 16, 2, 38, 29, 3, 17, 5, 16, 47, 20, 27, 8, 49, 40, 42, 17, 20, 2, 12, 7, 41, 19, 28, 14, 30, 0, 38, 39, 8, 31, 11, 24, 18, 20, 39, 42, 22, 26, 47, 29, 26, 30, 45, 38, 46, 13, 8, 30, 41, 4, 5, 43, 1, 16, 1, 27, 1, 35, 9, 1, 35, 16, 47, 30, 7, 41, 45, 3, 26, 12, 16, 36, 29, 2, 30, 0, 41, 2, 39, 11, 22, 30, 20, 27, 11, 12, 5, 40, 2, 10, 19, 26, 4, 42, 46, 36, 11, 2, 31, 32, 17, 18, 8, 16, 4, 23, 22, 13, 47, 29, 16, 39, 20, 16, 14, 44, 10, 9, 30, 29, 24, 22, 36, 10, 5, 40, 24, 42, 27, 27, 0, 45, 15, 15, 14, 22, 35, 16, 18, 1, 22, 0, 24, 35, 28, 40, 34, 21, 6, 2, 17, 19, 45, 39, 7, 22, 41, 41, 33, 28, 46, 14, 17, 15, 32, 18, 36, 0, 13, 36, 3, 36, 8, 40, 7, 6, 45, 22, 8, 35, 13, 31, 20, 40, 16, 22, 12, 21, 21, 12, 16, 4, 45, 38, 3, 41, 6, 8, 49, 33, 13, 5, 15, 13, 26, 32, 35, 14, 33, 23, 14, 49, 7, 33, 33, 2, 9, 33, 47, 18, 33, 5, 23, 32, 44, 24, 19, 7, 9, 47, 1, 7, 31, 7, 45, 20, 17, 34, 7, 6, 13, 26, 16, 8, 46, 33, 32, 39, 20, 13, 4, 5, 35, 35, 41, 11, 45, 4, 13, 45, 35, 12, 31, 35, 10, 9, 14, 32, 23, 36, 8, 49, 47, 15, 3, 47, 0, 40, 14, 20, 35, 45, 47, 19, 6, 20, 28, 0, 38, 42, 23, 3, 6, 2, 19, 16, 38, 11, 12, 38, 18, 3, 15, 29, 19, 29, 48, 18, 20, 30, 35, 8, 42, 13, 14, 17, 45, 17, 11, 4, 26, 24, 3, 12, 11, 2, 44, 30, 0, 38, 36, 19, 12, 40, 44, 38, 22, 4, 31, 15, 31, 45, 47, 27, 48, 18, 26, 21, 35, 39, 17, 34, 44, 19, 2, 42, 4, 49, 17, 17, 28, 30, 21, 18, 29, 38, 9, 23, 47, 7, 9, 11, 40, 24, 8, 12, 7, 14, 21, 13, 26, 13, 44, 34, 22, 21, 0, 36, 0, 49, 40, 17, 7, 38, 24, 45, 26, 41, 11, 17, 24, 30, 0, 39, 30, 22, 15, 45, 34, 36, 8, 21, 12, 30, 26, 40, 1, 7, 41, 16, 17, 46, 26, 7, 1, 29, 27, 35, 9, 47, 31, 35, 49, 11, 15, 7, 12, 15, 4, 42, 22, 16, 38, 23, 18, 45, 19, 9, 21, 21, 14, 8, 42, 40, 44, 41, 10, 40, 24, 38, 31, 32, 48, 0, 44, 20, 40, 6, 21, 23, 49, 13, 33, 48, 32, 38, 23, 11, 31, 4, 4, 8, 41, 15, 16, 7, 40, 45, 22, 38, 30, 41, 4, 13, 13, 12, 21, 40, 22, 44, 40, 6, 42, 0, 11, 4, 13, 42, 5, 32, 9, 34, 29, 3, 9, 14, 26, 9, 20, 32, 13, 41, 32, 16, 21, 8, 47, 9, 20, 39, 40, 0, 28, 31, 8, 45, 10, 19, 31, 29, 10, 14, 45, 48, 45, 16, 36, 39, 44, 20, 34, 33, 41, 44, 22, 46, 16, 1, 42, 17, 5, 36, 46, 19, 40, 38, 5, 27, 31, 8, 42, 49, 20, 33, 14, 27, 39, 5, 5, 20, 45, 32, 6, 12, 42, 30, 19, 10, 27, 42, 0, 46, 16, 4, 29, 40, 5, 6, 11, 11, 1, 46, 9, 34, 35, 49, 46, 45, 2, 30, 49, 27, 4, 16, 1, 40, 7, 26, 10, 17, 27, 2, 46, 28, 8, 6, 11, 39, 15, 35, 9, 18, 21, 28, 30, 29, 0, 5, 8, 41, 31, 47, 40, 32, 39, 18, 46, 28, 48, 34, 11, 24, 2, 9, 8, 34, 47, 3, 22, 43, 8, 21, 21, 0, 44, 23, 46, 26, 20, 34, 8, 4, 42, 24, 9, 12, 30, 40, 26, 19, 10, 10]}\n"
          ]
        }
      ]
    },
    {
      "cell_type": "code",
      "source": [
        "import numpy as np\n",
        "\n",
        "data_to_save_pd = pd.DataFrame(data_to_save)\n",
        "data_to_save_np = data_to_save_pd[:].values\n",
        "df = pd.DataFrame(data=data_to_save_np)\n",
        "df.to_csv('predictions.csv', index=False, header=False)"
      ],
      "metadata": {
        "id": "CG-rkscWbWKd"
      },
      "execution_count": 38,
      "outputs": []
    }
  ],
  "metadata": {
    "anaconda-cloud": {},
    "kernelspec": {
      "display_name": "Python 3",
      "language": "python",
      "name": "python3"
    },
    "language_info": {
      "codemirror_mode": {
        "name": "ipython",
        "version": 3
      },
      "file_extension": ".py",
      "mimetype": "text/x-python",
      "name": "python",
      "nbconvert_exporter": "python",
      "pygments_lexer": "ipython3",
      "version": "3.7.4"
    },
    "colab": {
      "name": "Lab2_DL_parts_4_and_5_optional.ipynb",
      "provenance": [],
      "collapsed_sections": []
    },
    "accelerator": "GPU"
  },
  "nbformat": 4,
  "nbformat_minor": 0
}